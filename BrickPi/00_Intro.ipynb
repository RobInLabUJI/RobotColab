{
 "cells": [
  {
   "cell_type": "markdown",
   "metadata": {},
   "source": [
    "<img src=\"img/robot.jpeg\" width=\"240\" align=\"right\">\n",
    "\n",
    "# Introducció a la programació de robots\n",
    "\n",
    "Aquest taller va dirigit a gent de 9 a 99 anys amb ganes d'aprendre a programar robots.\n",
    "\n",
    "Programareu aquest robot per a fer tasques senzilles:\n",
    "* moviments bàsics\n",
    "* detectar obstacles\n",
    "* seguir línies\n",
    "* usar la càmera per a detectar un incendi i apagar-lo\n",
    "\n",
    "No és necessari cap coneixement previ de programació ni de robòtica, només ganes d'aprendre i passar-s'ho bé!\n",
    "\n",
    "Abans que res, practicarem abans com funciona aquest entorn de programació amb uns xicotets exemples."
   ]
  },
  {
   "cell_type": "markdown",
   "metadata": {},
   "source": [
    "<img src=\"img/python-logo.png\" width=\"120\" align=\"right\">\n",
    "\n",
    "### Programació en Python\n",
    "\n",
    "Aquesta finestra que esteu veient al navegador vos permet també programar.\n",
    "\n",
    "Usareu un llenguatge de programació anomenat Python.\n",
    "\n",
    "És senzill d'aprendre, però a la vegada és potent i s'utilitza molt en les universitats i la indústria."
   ]
  },
  {
   "cell_type": "markdown",
   "metadata": {},
   "source": [
    "<img src=\"img/tecla_shift.jpg\" width=\"180\" align=\"right\">\n",
    "\n",
    "El funcionament és molt senzill:\n",
    "1. Vos donarem exemples d'instruccions per a provar.\n",
    "2. Combinareu i modificareu les instruccions dels exemples per a fer els vostres propis programes.\n",
    "\n",
    "Vegeu el primer exemple a la instrucció de baix, una suma de dos números."
   ]
  },
  {
   "cell_type": "markdown",
   "metadata": {},
   "source": [
    "<img src=\"img/tecla_enter.jpg\" width=\"240\" align=\"right\">\n",
    "\n",
    "Per a executar-la, heu de:\n",
    "1. clicar damunt de la cel·la\n",
    "2. polsar les tecles Shift i Enter\n",
    "\n",
    "Consell: primer polseu Shift i manteniu-la polsada mentre polseu Enter."
   ]
  },
  {
   "cell_type": "code",
   "execution_count": null,
   "metadata": {
    "collapsed": false
   },
   "outputs": [],
   "source": [
    "2+2"
   ]
  },
  {
   "cell_type": "markdown",
   "metadata": {},
   "source": [
    "Fàcil, no?\n",
    "\n",
    "Ara feu el vostre primer programa: escriviu ací baix la suma de tots els números de l'1 al 9.\n",
    "\n",
    "Pista: copieu la suma les vegades que faça falta, posant els números que toca."
   ]
  },
  {
   "cell_type": "code",
   "execution_count": null,
   "metadata": {
    "collapsed": false
   },
   "outputs": [],
   "source": []
  },
  {
   "cell_type": "markdown",
   "metadata": {},
   "source": [
    "Si dóna 45, enhorabona! Ha funcionat!\n",
    "\n",
    "Doncs ja podeu passar a programar el robot, ànim i a disfrutar!\n",
    "\n",
    "<a href=\"01_Moviment.ipynb\">Moviment del robot</a>"
   ]
  },
  {
   "cell_type": "markdown",
   "metadata": {},
   "source": [
    "<hr>\n",
    "<center>\n",
    "    <p><a href=\"http://www.uji.es\"><img alt=\"Universitat Jaume I\" src=\"img/uji_logo.png\" /></a></p>\n",
    "    <p><a rel=\"license\" href=\"http://creativecommons.org/licenses/by-sa/4.0/\"><img alt=\"Creative Commons License\" style=\"border-width:0\" src=\"https://i.creativecommons.org/l/by-sa/4.0/88x31.png\" /></a><br />This work is licensed under a <a rel=\"license\" href=\"http://creativecommons.org/licenses/by-sa/4.0/\">Creative Commons Attribution-ShareAlike 4.0 International License</a>.</p>\n",
    "</center>"
   ]
  }
 ],
 "metadata": {
  "kernelspec": {
   "display_name": "Python 3",
   "language": "python",
   "name": "python3"
  },
  "language_info": {
   "codemirror_mode": {
    "name": "ipython",
    "version": 3
   },
   "file_extension": ".py",
   "mimetype": "text/x-python",
   "name": "python",
   "nbconvert_exporter": "python",
   "pygments_lexer": "ipython3",
   "version": "3.5.3"
  }
 },
 "nbformat": 4,
 "nbformat_minor": 2
}
