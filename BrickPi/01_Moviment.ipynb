{
 "cells": [
  {
   "cell_type": "markdown",
   "metadata": {},
   "source": [
    "<img src=\"img/motor-ev3.jpg\" align=\"right\" width=\"240\">\n",
    "\n",
    "# Motors\n",
    "\n",
    "\n",
    "El robot té dos motors, connectats a les rodes esquerra i dreta. Cada motor pot girar cap endavant i cap enrere de manera independent, permetent així al robot avançar, anar cap arrere, girar a l'esquerra o a la dreta.\n"
   ]
  },
  {
   "cell_type": "markdown",
   "metadata": {},
   "source": [
    "### Inicialització\n",
    "\n",
    "En primer lloc hi ha que importar les instruccions de moviment i definir una variable per al robot."
   ]
  },
  {
   "cell_type": "code",
   "execution_count": null,
   "metadata": {
    "collapsed": false
   },
   "outputs": [],
   "source": [
    "from BrickPiModule import BrickPiRobot\n",
    "robot = BrickPiRobot()"
   ]
  },
  {
   "cell_type": "markdown",
   "metadata": {},
   "source": [
    "A continuació provarem les diferents seqüències de moviment, que tenen 3 línies cadascuna:\n",
    "\n",
    "1. Donar l'ordre al robot per a moure's en una direcció\n",
    "2. Fer una pausa de tres segons mentre el robot es mou\n",
    "3. Parar el robot"
   ]
  },
  {
   "cell_type": "markdown",
   "metadata": {},
   "source": [
    "### Anar cap avant"
   ]
  },
  {
   "cell_type": "code",
   "execution_count": null,
   "metadata": {
    "collapsed": false
   },
   "outputs": [],
   "source": [
    "robot.avant()\n",
    "robot.pausa(3)\n",
    "robot.para()"
   ]
  },
  {
   "cell_type": "markdown",
   "metadata": {},
   "source": [
    "### Anar cap arrere"
   ]
  },
  {
   "cell_type": "code",
   "execution_count": null,
   "metadata": {
    "collapsed": true
   },
   "outputs": [],
   "source": [
    "robot.arrere()\n",
    "robot.pausa(3)\n",
    "robot.para()"
   ]
  },
  {
   "cell_type": "markdown",
   "metadata": {},
   "source": [
    "### Girar a l'esquerra"
   ]
  },
  {
   "cell_type": "code",
   "execution_count": null,
   "metadata": {
    "collapsed": true
   },
   "outputs": [],
   "source": [
    "robot.esquerra()\n",
    "robot.pausa(3)\n",
    "robot.para()"
   ]
  },
  {
   "cell_type": "markdown",
   "metadata": {},
   "source": [
    "### Girar a la dreta"
   ]
  },
  {
   "cell_type": "code",
   "execution_count": null,
   "metadata": {
    "collapsed": true
   },
   "outputs": [],
   "source": [
    "robot.dreta()\n",
    "robot.pausa(3)\n",
    "robot.para()"
   ]
  },
  {
   "cell_type": "markdown",
   "metadata": {},
   "source": [
    "### Tot correcte?\n",
    "\n",
    "Si ha anat to bé, passeu al següent exercici on <a href=\"02_Quadrat.ipynb\">programareu el robot per a fer un quadrat</a>.\n",
    "\n",
    "<hr>\n",
    "<center>\n",
    "    <p><a href=\"http://www.uji.es\"><img alt=\"Universitat Jaume I\" src=\"img/uji_logo.png\" /></a></p>\n",
    "    <p><a rel=\"license\" href=\"http://creativecommons.org/licenses/by-sa/4.0/\"><img alt=\"Creative Commons License\" style=\"border-width:0\" src=\"https://i.creativecommons.org/l/by-sa/4.0/88x31.png\" /></a><br />This work is licensed under a <a rel=\"license\" href=\"http://creativecommons.org/licenses/by-sa/4.0/\">Creative Commons Attribution-ShareAlike 4.0 International License</a>.</p>\n",
    "</center>"
   ]
  }
 ],
 "metadata": {
  "kernelspec": {
   "display_name": "Python 3",
   "language": "python",
   "name": "python3"
  },
  "language_info": {
   "codemirror_mode": {
    "name": "ipython",
    "version": 3
   },
   "file_extension": ".py",
   "mimetype": "text/x-python",
   "name": "python",
   "nbconvert_exporter": "python",
   "pygments_lexer": "ipython3",
   "version": "3.5.3"
  }
 },
 "nbformat": 4,
 "nbformat_minor": 2
}
