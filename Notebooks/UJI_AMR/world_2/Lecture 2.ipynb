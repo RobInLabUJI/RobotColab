{
 "cells": [
  {
   "cell_type": "markdown",
   "metadata": {},
   "source": [
    "[<img align=\"right\" src=\"img/pioneer3dx_real.png\" width=300 />](https://www.cyberbotics.com/doc/guide/using-the-pioneer-3-at-and-pioneer-3-dx-robots)\n",
    "## Lecture 2  - Ultrasonic Sensing\n",
    "\n",
    "An autonomous robot needs to acquire knowledge about its environment. This is done by taking measurements using sensors and then extracting information from those measurements.\n",
    "\n",
    "There is a wide variety of sensors in mobile robots. In this lecture we present a very popular type of sensor, ultrasonic devices, which are used for measuring distances to solid obstacles.\n",
    "\n",
    "We will explain how ultrasonic sensors can be used for simple navigation tasks, including wandering while avoiding obstacles, and wall following.\n",
    "\n",
    "* [Ultrasonic Sensors](Ultrasonic%20Sensors.ipynb)\n",
    "* [Detecting Obstacles](Detecting%20Obstacles.ipynb)\n",
    "* [Searching for Free Space](Searching%20Space.ipynb)\n",
    "* [Wandering](Wandering.ipynb)\n",
    "* [Wall Following](Wall%20Following.ipynb)\n",
    "\n",
    "For more comprehensive information about sensors used on mobile robots, refer to H.R. Everett's book [*Sensors for Mobile Robots: Theory and Application*](http://barteverett.com/book.html)."
   ]
  },
  {
   "cell_type": "markdown",
   "metadata": {},
   "source": [
    "---\n",
    "#### Try-a-Bot: an open source guide for robot programming\n",
    "Developed by:\n",
    "[![Robotic Intelligence Lab @ UJI](img/logo/robinlab.png \"Robotic Intelligence Lab @ UJI\")](http://robinlab.uji.es)\n",
    "\n",
    "Sponsored by:\n",
    "<table>\n",
    "<tr>\n",
    "<td style=\"border:1px solid #ffffff ;\">\n",
    "<a href=\"http://www.ieee-ras.org\"><img src=\"img/logo/ras.png\"></a>\n",
    "</td>\n",
    "<td style=\"border:1px solid #ffffff ;\">\n",
    "<a href=\"http://www.cyberbotics.com\"><img src=\"img/logo/cyberbotics.png\"></a>\n",
    "</td>\n",
    "<td style=\"border:1px solid #ffffff ;\">\n",
    "<a href=\"http://www.theconstructsim.com\"><img src=\"img/logo/theconstruct.png\"></a>\n",
    "</td>\n",
    "</tr>\n",
    "</table>\n",
    "\n",
    "Follow us:\n",
    "<table>\n",
    "<tr>\n",
    "<td style=\"border:1px solid #ffffff ;\">\n",
    "<a href=\"https://www.facebook.com/RobotProgrammingNetwork\"><img src=\"img/logo/facebook.png\"></a>\n",
    "</td>\n",
    "<td style=\"border:1px solid #ffffff ;\">\n",
    "<a href=\"https://www.youtube.com/user/robotprogrammingnet\"><img src=\"img/logo/youtube.png\"></a>\n",
    "</td>\n",
    "</tr>\n",
    "</table>\n"
   ]
  }
 ],
 "metadata": {
  "kernelspec": {
   "display_name": "Python 3 (ipykernel)",
   "language": "python",
   "name": "python3"
  },
  "language_info": {
   "codemirror_mode": {
    "name": "ipython",
    "version": 3
   },
   "file_extension": ".py",
   "mimetype": "text/x-python",
   "name": "python",
   "nbconvert_exporter": "python",
   "pygments_lexer": "ipython3",
   "version": "3.8.10"
  }
 },
 "nbformat": 4,
 "nbformat_minor": 1
}
