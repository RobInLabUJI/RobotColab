{
 "cells": [
  {
   "cell_type": "markdown",
   "metadata": {},
   "source": [
    "<img align=\"right\" src=\"img/p3dx.png\" />\n",
    "\n",
    "# Try a Pioneer\n",
    "In this lectures you are going to explore and learn with a simulator of the [Pioneer P3-DX mobile robot](http://www.mobilerobots.com/ResearchRobots/PioneerP3DX.aspx). The Pioneer 3-DX robot is an all-purpose base, used for research and applications involving mapping, teleoperation, localization, monitoring and other behaviors.\n",
    "\n",
    "The materials consist of 6 modules:\n",
    "* 4 lectures introducing the basics of mobile robotics, vision, and manipulation\n",
    "* 2 practical modules for solving a realistic robotics challenge"
   ]
  },
  {
   "cell_type": "markdown",
   "metadata": {},
   "source": [
    "### Lecture 1: Motion\n",
    "You will learn how a mobile robot moves, and how to program basic functions for sending commands to the motors, and calculating the distance travelled by the robot.\n",
    "\n",
    "Open the world `RobotColab/Webots/Pioneer3/worlds/pioneer3dx.wbt` in Webots."
   ]
  },
  {
   "cell_type": "markdown",
   "metadata": {},
   "source": [
    "The lecture materials are available [here](world_1/Lecture%201.ipynb)."
   ]
  },
  {
   "cell_type": "markdown",
   "metadata": {},
   "source": [
    "### Lecture 2: Ultrasonic Sensing\n",
    "\n",
    "This lecture explains how ultrasonic sensors can be used for simple navigation tasks, including wandering while avoiding obstacles, and wall following.\n",
    "\n",
    "Open the world `RobotColab/Webots/Pioneer3/worlds/...` in Webots."
   ]
  },
  {
   "cell_type": "markdown",
   "metadata": {},
   "source": [
    "The lecture materials are available [here](world_2/Lecture%202.ipynb)."
   ]
  },
  {
   "cell_type": "markdown",
   "metadata": {},
   "source": [
    "### Lecture 3: Vision\n",
    "\n",
    "This lecture presents the fundamentals of computer vision and image processing for a locomotion task: the robot will follow a line on the ground using a camera.\n",
    "\n",
    "Open the world `RobotColab/Webots/Pioneer3/worlds/...` in Webots."
   ]
  },
  {
   "cell_type": "markdown",
   "metadata": {},
   "source": [
    "The lecture materials are available [here](world_3/Lecture%203.ipynb)"
   ]
  },
  {
   "cell_type": "markdown",
   "metadata": {},
   "source": [
    "### Lecture 4: Manipulation\n",
    "In this lecture, you will learn to control the robot gripper, and program a task for autonomously grasping an object, an carrying it to a predefined destination.\n",
    "\n",
    "Open the world `RobotColab/Webots/Pioneer3/worlds/...` in Webots."
   ]
  },
  {
   "cell_type": "markdown",
   "metadata": {},
   "source": [
    "The lecture materials are available [here](world_4/Lecture%204.ipynb)."
   ]
  },
  {
   "cell_type": "markdown",
   "metadata": {},
   "source": [
    "### Challenge Part 1: Navigation\n",
    "This challenge is inspired by the [Robocup Junior Rescue Competition](http://rcj.robocup.org/rescue.html), where the robot must navigate through the environment, find and transport the victims to a safe evacuation point where humans can take over.\n",
    "\n",
    "In the first part of the challenge, the robot must follow the line in the floor and avoid the obstacles.\n",
    "\n",
    "Open the world `RobotColab/Webots/Pioneer3/worlds/...` in Webots."
   ]
  },
  {
   "cell_type": "markdown",
   "metadata": {},
   "source": [
    "The notebooks for the challenge are available [here](world_5/Challenge%201.ipynb). "
   ]
  },
  {
   "cell_type": "markdown",
   "metadata": {},
   "source": [
    "### Challenge Part 2: Pick and Place\n",
    "The aim of this session is to program the robot for the second part of the challenge: pick up the balls and transport them to the corner. To do so, you need to reuse the abilities learnt in session 4; please feel free to reuse the code of those notebooks and exercises.\n",
    "\n",
    "Open the world `RobotColab/Webots/Pioneer3/worlds/...` in Webots."
   ]
  },
  {
   "cell_type": "markdown",
   "metadata": {},
   "source": [
    "The notebooks for the challenge are available [here](world_6/Challenge%202.ipynb)."
   ]
  },
  {
   "cell_type": "markdown",
   "metadata": {},
   "source": [
    "---\n",
    "#### Try-a-Bot: an open source guide for robot programming\n",
    "Developed by:\n",
    "[![Robotic Intelligence Lab @ UJI](img/logo/robinlab.png \"Robotic Intelligence Lab @ UJI\")](http://robinlab.uji.es)\n",
    "\n",
    "Sponsored by:\n",
    "<table>\n",
    "<tr>\n",
    "<td style=\"border:1px solid #ffffff ;\">\n",
    "<a href=\"http://www.ieee-ras.org\"><img src=\"img/logo/ras.png\"></a>\n",
    "</td>\n",
    "<td style=\"border:1px solid #ffffff ;\">\n",
    "<a href=\"http://www.cyberbotics.com\"><img src=\"img/logo/cyberbotics.png\"></a>\n",
    "</td>\n",
    "<td style=\"border:1px solid #ffffff ;\">\n",
    "<a href=\"http://www.theconstructsim.com\"><img src=\"img/logo/theconstruct.png\"></a>\n",
    "</td>\n",
    "</tr>\n",
    "</table>\n",
    "\n",
    "Follow us:\n",
    "<table>\n",
    "<tr>\n",
    "<td style=\"border:1px solid #ffffff ;\">\n",
    "<a href=\"https://www.facebook.com/RobotProgrammingNetwork\"><img src=\"img/logo/facebook.png\"></a>\n",
    "</td>\n",
    "<td style=\"border:1px solid #ffffff ;\">\n",
    "<a href=\"https://www.youtube.com/user/robotprogrammingnet\"><img src=\"img/logo/youtube.png\"></a>\n",
    "</td>\n",
    "</tr>\n",
    "</table>"
   ]
  }
 ],
 "metadata": {
  "kernelspec": {
   "display_name": "Python 3",
   "language": "python",
   "name": "python3"
  },
  "language_info": {
   "codemirror_mode": {
    "name": "ipython",
    "version": 3
   },
   "file_extension": ".py",
   "mimetype": "text/x-python",
   "name": "python",
   "nbconvert_exporter": "python",
   "pygments_lexer": "ipython3",
   "version": "3.8.10"
  }
 },
 "nbformat": 4,
 "nbformat_minor": 2
}
