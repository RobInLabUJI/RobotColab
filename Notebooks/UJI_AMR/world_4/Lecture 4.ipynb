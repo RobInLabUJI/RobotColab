{
 "cells": [
  {
   "cell_type": "markdown",
   "metadata": {},
   "source": [
    "## Lecture 4 - Manipulation\n",
    "\n",
    "[<img align=\"right\" src=\"img/P2DXEM.jpg\" />](http://www.mobilerobots.com/Accessories/PioneerGripper.aspx)\n",
    "[Robots](https://en.wikipedia.org/wiki/Robot) have been historically classified in [mobile robots](https://en.wikipedia.org/wiki/Mobile_robot) and [manipulators](https://en.wikipedia.org/wiki/Industrial_robot).\n",
    "\n",
    "Nowadays, manipulation devices are available for many mobile platforms, including ground, underwater and aerial vehicles. The Pioneer is an indoor mobile platform that can be optionally equiped with a simple yet effective manipulator device.\n",
    "\n",
    "In this lecture, you will learn to control the robot gripper, and program a task for autonomously grasping an object, an carrying it to a predefined destination.\n",
    "\n",
    "* [Gripper](Gripper.ipynb)\n",
    "* [Searching Ball](Searching.ipynb)\n",
    "* [Grasping](Grasping.ipynb)\n",
    "* [Searching Target](Searching%20Target.ipynb)\n",
    "* [Complete Manipulation Task](Complete%20Task.ipynb)\n"
   ]
  },
  {
   "cell_type": "markdown",
   "metadata": {},
   "source": [
    "---\n",
    "#### Try-a-Bot: an open source guide for robot programming\n",
    "Developed by:\n",
    "[![Robotic Intelligence Lab @ UJI](img/logo/robinlab.png \"Robotic Intelligence Lab @ UJI\")](http://robinlab.uji.es)\n",
    "\n",
    "Sponsored by:\n",
    "<table>\n",
    "<tr>\n",
    "<td style=\"border:1px solid #ffffff ;\">\n",
    "<a href=\"http://www.ieee-ras.org\"><img src=\"img/logo/ras.png\"></a>\n",
    "</td>\n",
    "<td style=\"border:1px solid #ffffff ;\">\n",
    "<a href=\"http://www.cyberbotics.com\"><img src=\"img/logo/cyberbotics.png\"></a>\n",
    "</td>\n",
    "<td style=\"border:1px solid #ffffff ;\">\n",
    "<a href=\"http://www.theconstructsim.com\"><img src=\"img/logo/theconstruct.png\"></a>\n",
    "</td>\n",
    "</tr>\n",
    "</table>\n",
    "\n",
    "Follow us:\n",
    "<table>\n",
    "<tr>\n",
    "<td style=\"border:1px solid #ffffff ;\">\n",
    "<a href=\"https://www.facebook.com/RobotProgrammingNetwork\"><img src=\"img/logo/facebook.png\"></a>\n",
    "</td>\n",
    "<td style=\"border:1px solid #ffffff ;\">\n",
    "<a href=\"https://www.youtube.com/user/robotprogrammingnet\"><img src=\"img/logo/youtube.png\"></a>\n",
    "</td>\n",
    "</tr>\n",
    "</table>"
   ]
  }
 ],
 "metadata": {
  "kernelspec": {
   "display_name": "Python 3",
   "language": "python",
   "name": "python3"
  },
  "language_info": {
   "codemirror_mode": {
    "name": "ipython",
    "version": 3
   },
   "file_extension": ".py",
   "mimetype": "text/x-python",
   "name": "python",
   "nbconvert_exporter": "python",
   "pygments_lexer": "ipython3",
   "version": "3.8.10"
  }
 },
 "nbformat": 4,
 "nbformat_minor": 1
}
