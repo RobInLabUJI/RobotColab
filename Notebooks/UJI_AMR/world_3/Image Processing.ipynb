{
 "cells": [
  {
   "cell_type": "markdown",
   "metadata": {},
   "source": [
    "## Image Processing\n",
    "\n",
    "[<img align=\"right\" src=\"img/opencv_logo.png\" />](http://opencv.org/)\n",
    "In this module, we will use [OpenCV](http://opencv.org/) in Python to process the images coming through the camera from the simulated Pioneer 3DX.\n",
    "\n",
    "OpenCV (Open Source Computer Vision) is a library of programming functions mainly aimed at real-time computer vision.\n",
    "\n",
    "In our task, the goal is to detect the location of the target line and follow it around the course. There are many strategies that can be used for that purpose, whose complexity increases with variability and noise. In our case, we are just going to consider an optimally painted, optimally illuminated bright cyan line.\n",
    "\n",
    "The strategy will be to filter a block of rows of the image by color and drive the robot toward the center of the pixels that pass the color filter.\n",
    "\n",
    "First, we initialize the robot, launch the widgets, and display the camera image."
   ]
  },
  {
   "cell_type": "markdown",
   "metadata": {},
   "source": [
    "**IMPORTANT**: before running the code below, please restart the simulation in Webots."
   ]
  },
  {
   "cell_type": "code",
   "execution_count": null,
   "metadata": {},
   "outputs": [],
   "source": [
    "from Pioneer3.Controllers import PioneerRobot\n",
    "\n",
    "robot = PioneerRobot()"
   ]
  },
  {
   "cell_type": "code",
   "execution_count": null,
   "metadata": {},
   "outputs": [],
   "source": [
    "%matplotlib inline\n",
    "import matplotlib.pyplot as plt"
   ]
  },
  {
   "cell_type": "code",
   "execution_count": null,
   "metadata": {},
   "outputs": [],
   "source": [
    "image = robot.kinect.getColorImage()\n",
    "plt.imshow(image);"
   ]
  },
  {
   "cell_type": "markdown",
   "metadata": {},
   "source": [
    "### Color Filtering\n",
    "\n",
    "[<img align=\"right\" src=\"img/rgb_hsv.png\" />](https://en.wikipedia.org/wiki/HSL_and_HSV)\n",
    "The first idea would be to find the red, green, blue (RGB) values of a cyan image pixel and filter for nearby RGB values. Unfortunately, filtering on RGB values turns out to be a poor way to find a particular color in an image, since the raw values are a function of the overall brightness as well as the color of the object. Slightly different lighting conditions would result in the filter failing to perform as intended.\n",
    "\n",
    "Instead, a better technique for filtering by color is to transform RGB images into [hue, saturation, value (HSV)](https://en.wikipedia.org/wiki/HSL_and_HSV) images. The HSV image separates the RGB components into hue (color), saturation (color intensity), and value (brightness). Once the image is in this form, we can then apply a threshold for hues near cyan to obtain a *binary image* in which pixels are either true (meaning they pass the filter) or false (they do not pass the filter)."
   ]
  },
  {
   "cell_type": "code",
   "execution_count": null,
   "metadata": {},
   "outputs": [],
   "source": [
    "import cv2\n",
    "import numpy"
   ]
  },
  {
   "cell_type": "code",
   "execution_count": null,
   "metadata": {},
   "outputs": [],
   "source": [
    "hsv = cv2.cvtColor(image, cv2.COLOR_RGB2HSV)"
   ]
  },
  {
   "cell_type": "markdown",
   "metadata": {},
   "source": [
    "The [cyan color](http://www.colorhexa.com/00ffff) has a hue angle of 180 degrees (of 360), a saturation of 100% and a value of 100%. However, since OpenCV uses a different scale (H: 0 - 180, S: 0 - 255, V: 0 - 255), the cyan hue angle will be 90 units.\n",
    "\n",
    "In real lighting conditions, colors are not defined by single values, but by intervals, so we will use an interval of $\\pm 10$ units around the central value. \n",
    "\n",
    "Since the illumination is not extremely bright, the thresholds for saturation and value are set to 100. "
   ]
  },
  {
   "cell_type": "code",
   "execution_count": null,
   "metadata": {},
   "outputs": [],
   "source": [
    "lower_cyan = numpy.array([80, 100, 100])\n",
    "upper_cyan = numpy.array([100, 255, 255])"
   ]
  },
  {
   "cell_type": "markdown",
   "metadata": {},
   "source": [
    "The mask is computed by the [OpenCV function `inRange`](http://docs.opencv.org/2.4/modules/core/doc/operations_on_arrays.html#inrange)."
   ]
  },
  {
   "cell_type": "code",
   "execution_count": null,
   "metadata": {},
   "outputs": [],
   "source": [
    "mask = cv2.inRange(hsv, lower_cyan, upper_cyan)"
   ]
  },
  {
   "cell_type": "code",
   "execution_count": null,
   "metadata": {},
   "outputs": [],
   "source": [
    "plt.imshow(mask,cmap='gray');"
   ]
  },
  {
   "cell_type": "markdown",
   "metadata": {},
   "source": [
    "Next: [Line Detection](Line%20Detection.ipynb)"
   ]
  },
  {
   "cell_type": "markdown",
   "metadata": {},
   "source": [
    "---\n",
    "#### Try-a-Bot: an open source guide for robot programming\n",
    "Developed by:\n",
    "[![Robotic Intelligence Lab @ UJI](img/logo/robinlab.png \"Robotic Intelligence Lab @ UJI\")](http://robinlab.uji.es)\n",
    "\n",
    "Sponsored by:\n",
    "<table>\n",
    "<tr>\n",
    "<td style=\"border:1px solid #ffffff ;\">\n",
    "<a href=\"http://www.ieee-ras.org\"><img src=\"img/logo/ras.png\"></a>\n",
    "</td>\n",
    "<td style=\"border:1px solid #ffffff ;\">\n",
    "<a href=\"http://www.cyberbotics.com\"><img src=\"img/logo/cyberbotics.png\"></a>\n",
    "</td>\n",
    "<td style=\"border:1px solid #ffffff ;\">\n",
    "<a href=\"http://www.theconstructsim.com\"><img src=\"img/logo/theconstruct.png\"></a>\n",
    "</td>\n",
    "</tr>\n",
    "</table>\n",
    "\n",
    "Follow us:\n",
    "<table>\n",
    "<tr>\n",
    "<td style=\"border:1px solid #ffffff ;\">\n",
    "<a href=\"https://www.facebook.com/RobotProgrammingNetwork\"><img src=\"img/logo/facebook.png\"></a>\n",
    "</td>\n",
    "<td style=\"border:1px solid #ffffff ;\">\n",
    "<a href=\"https://www.youtube.com/user/robotprogrammingnet\"><img src=\"img/logo/youtube.png\"></a>\n",
    "</td>\n",
    "</tr>\n",
    "</table>"
   ]
  }
 ],
 "metadata": {
  "kernelspec": {
   "display_name": "Python 3",
   "language": "python",
   "name": "python3"
  },
  "language_info": {
   "codemirror_mode": {
    "name": "ipython",
    "version": 3
   },
   "file_extension": ".py",
   "mimetype": "text/x-python",
   "name": "python",
   "nbconvert_exporter": "python",
   "pygments_lexer": "ipython3",
   "version": "3.8.10"
  }
 },
 "nbformat": 4,
 "nbformat_minor": 1
}
