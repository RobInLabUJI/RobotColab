{
 "cells": [
  {
   "cell_type": "markdown",
   "metadata": {},
   "source": [
    "## Lecture 3 - Vision\n",
    "\n",
    "<img align=\"right\" src=\"img/machine_vision.png\" width=300 />\n",
    "Vision is perhaps the most powerful sense in humans, providing a huge amount of information about the environment, and enabling rich and intelligent interaction.\n",
    "\n",
    "In this lecture, we present the fundamentals of computer vision and image processing for a locomotion task: the robot will follow a line on the ground using a camera.\n",
    "\n",
    "* [Acquiring Images](Acquiring%20Images.ipynb)\n",
    "* [Image Processing](Image%20Processing.ipynb)\n",
    "* [Line Detection](Line%20Detection.ipynb)\n",
    "* [Line Following](Line%20Following.ipynb)\n",
    "* [Line Following with Obstacle Avoidance](Line%20Following%20Obstacle.ipynb)\n",
    "\n",
    "This lecture is based on Chapter 12 (Follow-Bot) of [**Programming Robots with ROS** by Morgan Quigley, Brian Gerkey, and William D. Smart](http://wiki.ros.org/Books/Programming_Robots_with_ROS)."
   ]
  },
  {
   "cell_type": "markdown",
   "metadata": {},
   "source": [
    "---\n",
    "#### Try-a-Bot: an open source guide for robot programming\n",
    "Developed by:\n",
    "[![Robotic Intelligence Lab @ UJI](img/logo/robinlab.png \"Robotic Intelligence Lab @ UJI\")](http://robinlab.uji.es)\n",
    "\n",
    "Sponsored by:\n",
    "<table>\n",
    "<tr>\n",
    "<td style=\"border:1px solid #ffffff ;\">\n",
    "<a href=\"http://www.ieee-ras.org\"><img src=\"img/logo/ras.png\"></a>\n",
    "</td>\n",
    "<td style=\"border:1px solid #ffffff ;\">\n",
    "<a href=\"http://www.cyberbotics.com\"><img src=\"img/logo/cyberbotics.png\"></a>\n",
    "</td>\n",
    "<td style=\"border:1px solid #ffffff ;\">\n",
    "<a href=\"http://www.theconstructsim.com\"><img src=\"img/logo/theconstruct.png\"></a>\n",
    "</td>\n",
    "</tr>\n",
    "</table>\n",
    "\n",
    "Follow us:\n",
    "<table>\n",
    "<tr>\n",
    "<td style=\"border:1px solid #ffffff ;\">\n",
    "<a href=\"https://www.facebook.com/RobotProgrammingNetwork\"><img src=\"img/logo/facebook.png\"></a>\n",
    "</td>\n",
    "<td style=\"border:1px solid #ffffff ;\">\n",
    "<a href=\"https://www.youtube.com/user/robotprogrammingnet\"><img src=\"img/logo/youtube.png\"></a>\n",
    "</td>\n",
    "</tr>\n",
    "</table>"
   ]
  }
 ],
 "metadata": {
  "kernelspec": {
   "display_name": "Python 3",
   "language": "python",
   "name": "python3"
  },
  "language_info": {
   "codemirror_mode": {
    "name": "ipython",
    "version": 3
   },
   "file_extension": ".py",
   "mimetype": "text/x-python",
   "name": "python",
   "nbconvert_exporter": "python",
   "pygments_lexer": "ipython3",
   "version": "3.8.10"
  }
 },
 "nbformat": 4,
 "nbformat_minor": 1
}
