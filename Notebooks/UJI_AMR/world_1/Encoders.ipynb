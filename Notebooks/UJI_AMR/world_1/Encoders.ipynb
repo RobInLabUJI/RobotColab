{
 "cells": [
  {
   "cell_type": "markdown",
   "metadata": {},
   "source": [
    "[<img align=\"right\" src=\"img/encoders.png\" />](http://hightechsa.blogspot.com.es/2012/07/instrumentation-how-does-encoder-work.html)\n",
    "# Encoders\n",
    "For computing the distance traveled by a mobile robot, we are going to use sensors that mesure the motion of the wheels, i.e. the angle turned by each wheel.\n",
    "\n",
    "Optical encoders are very popular in mobile robotics for measuring the position within a motor drive of at the shaft of a wheel. They consist of a source of light, a pattern disc, and a light detector. As the disc turns, light pulses are converted to a binary signal, which is counted and as a result an angle is produced.\n",
    "\n",
    "**IMPORTANT**: please <ins>restart the Webots simulation</ins> before executing the code in a notebook\n",
    "\n",
    "Now, as usual, let's initialize the robot."
   ]
  },
  {
   "cell_type": "code",
   "execution_count": null,
   "metadata": {},
   "outputs": [],
   "source": [
    "from Pioneer3.Controllers import PioneerRobot\n",
    "import time\n",
    "\n",
    "robot = PioneerRobot()"
   ]
  },
  {
   "cell_type": "markdown",
   "metadata": {},
   "source": [
    "Let's move the robot around and check the values of the encoders:"
   ]
  },
  {
   "cell_type": "code",
   "execution_count": null,
   "metadata": {},
   "outputs": [],
   "source": [
    "robot.setSpeed(2.5,2.5)\n",
    "time.sleep(1)\n",
    "robot.stop()"
   ]
  },
  {
   "cell_type": "markdown",
   "metadata": {},
   "source": [
    "The values of the encoders are returned by this function:"
   ]
  },
  {
   "cell_type": "code",
   "execution_count": null,
   "metadata": {},
   "outputs": [],
   "source": [
    "leftEncoder, rightEncoder = robot.getEncoders()"
   ]
  },
  {
   "cell_type": "markdown",
   "metadata": {},
   "source": [
    "You can use them in your programs; for example,\n",
    "the following code pretty-prints their values:"
   ]
  },
  {
   "cell_type": "code",
   "execution_count": null,
   "metadata": {},
   "outputs": [],
   "source": [
    "print(\" Left Encoder: %7.3f radians\" % leftEncoder)\n",
    "print(\"Right Encoder: %7.3f radians\" % rightEncoder)"
   ]
  },
  {
   "cell_type": "markdown",
   "metadata": {},
   "source": [
    "#### Radians and Degrees\n",
    "Not familiar with [radians](https://en.wikipedia.org/wiki/Radian)? Angles can be converted from radians to degrees with some simple math: \n",
    "$$ degrees = radians \\frac{180}{\\pi} $$\n",
    "Use the code below, and replace the dots in the first line with the value in radians that you want to convert, then run the cell."
   ]
  },
  {
   "cell_type": "code",
   "execution_count": null,
   "metadata": {},
   "outputs": [],
   "source": [
    "radians = ...\n",
    "import math\n",
    "degrees = radians * 180 / math.pi\n",
    "print(\"%.3f radians are equivalent to %.3f degrees\" % (radians, degrees))"
   ]
  },
  {
   "cell_type": "markdown",
   "metadata": {},
   "source": [
    "However, radians will be widely used as angular magnitude, since they result in simpler mathematical expressions.\n",
    "\n",
    "For the proper use of encoders, it's time for a bit of geometry in the next notebook: [Angles and Distances](Angles%20and%20Distances.ipynb)"
   ]
  },
  {
   "cell_type": "markdown",
   "metadata": {
    "collapsed": true
   },
   "source": [
    "---\n",
    "#### Try-a-Bot: an open source guide for robot programming\n",
    "Developed by:\n",
    "[![Robotic Intelligence Lab @ UJI](img/logo/robinlab.png \"Robotic Intelligence Lab @ UJI\")](http://robinlab.uji.es)\n",
    "\n",
    "Sponsored by:\n",
    "<table>\n",
    "<tr>\n",
    "<td style=\"border:1px solid #ffffff ;\">\n",
    "<a href=\"http://www.ieee-ras.org\"><img src=\"img/logo/ras.png\"></a>\n",
    "</td>\n",
    "<td style=\"border:1px solid #ffffff ;\">\n",
    "<a href=\"http://www.cyberbotics.com\"><img src=\"img/logo/cyberbotics.png\"></a>\n",
    "</td>\n",
    "<td style=\"border:1px solid #ffffff ;\">\n",
    "<a href=\"http://www.theconstructsim.com\"><img src=\"img/logo/theconstruct.png\"></a>\n",
    "</td>\n",
    "</tr>\n",
    "</table>\n",
    "\n",
    "Follow us:\n",
    "<table>\n",
    "<tr>\n",
    "<td style=\"border:1px solid #ffffff ;\">\n",
    "<a href=\"https://www.facebook.com/RobotProgrammingNetwork\"><img src=\"img/logo/facebook.png\"></a>\n",
    "</td>\n",
    "<td style=\"border:1px solid #ffffff ;\">\n",
    "<a href=\"https://www.youtube.com/user/robotprogrammingnet\"><img src=\"img/logo/youtube.png\"></a>\n",
    "</td>\n",
    "</tr>\n",
    "</table>\n"
   ]
  }
 ],
 "metadata": {
  "kernelspec": {
   "display_name": "Python 3",
   "language": "python",
   "name": "python3"
  },
  "language_info": {
   "codemirror_mode": {
    "name": "ipython",
    "version": 3
   },
   "file_extension": ".py",
   "mimetype": "text/x-python",
   "name": "python",
   "nbconvert_exporter": "python",
   "pygments_lexer": "ipython3",
   "version": "3.8.10"
  }
 },
 "nbformat": 4,
 "nbformat_minor": 1
}
