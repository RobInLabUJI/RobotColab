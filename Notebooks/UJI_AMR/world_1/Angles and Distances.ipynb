{
 "cells": [
  {
   "cell_type": "markdown",
   "metadata": {},
   "source": [
    "<img align=\"right\" src=\"img/robot_geometry_240.png\" />\n",
    "\n",
    "# Angles and Distances\n",
    "In a differential-drive mobile robot, there are two geometrical parameters that determine the motion of the robot:\n",
    "* the radius of the wheels\n",
    "* the length of the wheel axis, i.e. the distance between the centers of the wheels\n",
    "\n",
    "With some simple operations, we can calculate the motion of the robots for two particular cases: moving straight and turning in place."
   ]
  },
  {
   "cell_type": "markdown",
   "metadata": {},
   "source": [
    "### Distance traveled in a straight motion\n",
    "\n",
    "[<img align=\"right\" src=\"img/rolling.png\" />](http://iopscience.iop.org/article/10.1088/0031-9120/47/2/189)\n",
    "When the robot moves forward, both wheels are turning at the same speed. For a complete turn of the wheels, the traveled distance $s$ is equal to the length of the circumference:\n",
    "\n",
    "$$ s = 2 \\pi R $$\n",
    "\n",
    "In the general case, if the wheels turn an angle $\\theta$ (in radians), the traveled distance is:\n",
    "\n",
    "$$ s = \\theta R $$"
   ]
  },
  {
   "cell_type": "markdown",
   "metadata": {},
   "source": [
    "### Angle turned in an in-place rotation\n",
    "When the robot spins around its own axis, both wheels are turning at the same speed, but in opposite directions.\n",
    "\n",
    "<img align=\"right\" src=\"img/turning.png\" />\n",
    "In this case, the distance traveled by the wheel must be equal to the length of the arc turned by the robot around its axis, whose radius is $L/2$:\n",
    "\n",
    "$$ s = \\theta R = \\psi \\frac{L}{2} $$\n",
    "\n",
    "The turned angle can thus be determined as:\n",
    "\n",
    "$$  \\psi = \\frac{2 \\theta R}{L} $$\n",
    "\n",
    "Got it? Let's proceed then with the first exercises of this course!"
   ]
  },
  {
   "cell_type": "markdown",
   "metadata": {},
   "source": [
    "### Exercises\n",
    "1. [Move the robot forward for a given distance](exercises/Distance.ipynb)\n",
    "2. [Turn the robot right for a given angle](exercises/Angle.ipynb)\n",
    "3. [Square Test](exercises/Square.ipynb)\n",
    "4. [Robot Speed](exercises/Robot%20Speed.ipynb)"
   ]
  },
  {
   "cell_type": "markdown",
   "metadata": {
    "collapsed": true
   },
   "source": [
    "---\n",
    "#### Try-a-Bot: an open source guide for robot programming\n",
    "Developed by:\n",
    "[![Robotic Intelligence Lab @ UJI](img/logo/robinlab.png \"Robotic Intelligence Lab @ UJI\")](http://robinlab.uji.es)\n",
    "\n",
    "Sponsored by:\n",
    "<table>\n",
    "<tr>\n",
    "<td style=\"border:1px solid #ffffff ;\">\n",
    "<a href=\"http://www.ieee-ras.org\"><img src=\"img/logo/ras.png\"></a>\n",
    "</td>\n",
    "<td style=\"border:1px solid #ffffff ;\">\n",
    "<a href=\"http://www.cyberbotics.com\"><img src=\"img/logo/cyberbotics.png\"></a>\n",
    "</td>\n",
    "<td style=\"border:1px solid #ffffff ;\">\n",
    "<a href=\"http://www.theconstructsim.com\"><img src=\"img/logo/theconstruct.png\"></a>\n",
    "</td>\n",
    "</tr>\n",
    "</table>\n",
    "\n",
    "Follow us:\n",
    "<table>\n",
    "<tr>\n",
    "<td style=\"border:1px solid #ffffff ;\">\n",
    "<a href=\"https://www.facebook.com/RobotProgrammingNetwork\"><img src=\"img/logo/facebook.png\"></a>\n",
    "</td>\n",
    "<td style=\"border:1px solid #ffffff ;\">\n",
    "<a href=\"https://www.youtube.com/user/robotprogrammingnet\"><img src=\"img/logo/youtube.png\"></a>\n",
    "</td>\n",
    "</tr>\n",
    "</table>\n"
   ]
  }
 ],
 "metadata": {
  "kernelspec": {
   "display_name": "Python 3",
   "language": "python",
   "name": "python3"
  },
  "language_info": {
   "codemirror_mode": {
    "name": "ipython",
    "version": 3
   },
   "file_extension": ".py",
   "mimetype": "text/x-python",
   "name": "python",
   "nbconvert_exporter": "python",
   "pygments_lexer": "ipython3",
   "version": "3.8.10"
  }
 },
 "nbformat": 4,
 "nbformat_minor": 1
}
