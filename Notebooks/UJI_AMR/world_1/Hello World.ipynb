{
 "cells": [
  {
   "cell_type": "markdown",
   "metadata": {},
   "source": [
    "[<img align=\"right\" src=\"img/logo/Python.png\" />](https://www.python.org)\n",
    "\n",
    "# Hello World!\n",
    "In these lectures, you are going to program a mobile robot, using a language called [Python](https://www.python.org). If you have never used it, but you are familiar with another language (C, Java), you will learn the basics very quickly.\n",
    "\n",
    "[<img align=\"right\" src=\"img/logo/jupyter.png\" />](http://jupyter.org/)\n",
    "The programs will run directly in the browser, in an environment called [Jupyter Notebook](http://jupyter.org/). How? Quite simple: notebooks consist of cells, which contain either text or code. \n",
    "\n",
    "Text cells (like this one) are written in *markdown*, a lightweight markup language that is converted to HTML. Such cells can embed images, links, and mathematical expressions. They are used for providing you with information, explanations and indications about the course.\n",
    "\n",
    "The **code cells** are plain Python statements that can be executed with **_Shift+Enter_**. Try it in the following cell:"
   ]
  },
  {
   "cell_type": "code",
   "execution_count": null,
   "metadata": {},
   "outputs": [],
   "source": [
    "# this is a code cell\n",
    "# click on it, then press Shift+Enter\n",
    "print('Hello World!')"
   ]
  },
  {
   "cell_type": "markdown",
   "metadata": {},
   "source": [
    "If the \"Hello World!\" message has been displayed as the output of the cell, congratulations! everything is working fine :-)\n",
    "\n",
    "Code cells can be interactively edited and re-run. Try it in the previous cell: for example, change the message in the `print` statement. Just click on the cell, edit the text, and re-run it again by pressing `Shift+Enter`.\n",
    "\n",
    "For the programming tasks in this course, you need to know the basics of structured programming:\n",
    "\n",
    "* Variables\n",
    "* Data structures (arrays, lists)\n",
    "* Control flow (conditional statements, loops)\n",
    "* Functions\n",
    "\n",
    "For a quick introduction to these topics in Python, you may browse through [The Python Tutorial](https://docs.python.org/3/tutorial/index.html).\n",
    "\n",
    "For an overview of Jupyter notebooks, please watch [this nice tutorial by Corey Schafer](https://www.youtube.com/watch?v=HW29067qVWk&t=407s).\n",
    "\n",
    "Let's proceed now to the next notebook: [Moving the Robot](Moving%20the%20Robot.ipynb)"
   ]
  },
  {
   "cell_type": "markdown",
   "metadata": {},
   "source": [
    "---\n",
    "#### Try-a-Bot: an open source guide for robot programming\n",
    "Developed by:\n",
    "[![Robotic Intelligence Lab @ UJI](img/logo/robinlab.png \"Robotic Intelligence Lab @ UJI\")](http://robinlab.uji.es)\n",
    "\n",
    "Sponsored by:\n",
    "<table>\n",
    "<tr>\n",
    "<td style=\"border:1px solid #ffffff ;\">\n",
    "<a href=\"http://www.ieee-ras.org\"><img src=\"img/logo/ras.png\"></a>\n",
    "</td>\n",
    "<td style=\"border:1px solid #ffffff ;\">\n",
    "<a href=\"http://www.cyberbotics.com\"><img src=\"img/logo/cyberbotics.png\"></a>\n",
    "</td>\n",
    "<td style=\"border:1px solid #ffffff ;\">\n",
    "<a href=\"http://www.theconstructsim.com\"><img src=\"img/logo/theconstruct.png\"></a>\n",
    "</td>\n",
    "</tr>\n",
    "</table>\n",
    "\n",
    "Follow us:\n",
    "<table>\n",
    "<tr>\n",
    "<td style=\"border:1px solid #ffffff ;\">\n",
    "<a href=\"https://www.facebook.com/RobotProgrammingNetwork\"><img src=\"img/logo/facebook.png\"></a>\n",
    "</td>\n",
    "<td style=\"border:1px solid #ffffff ;\">\n",
    "<a href=\"https://www.youtube.com/user/robotprogrammingnet\"><img src=\"img/logo/youtube.png\"></a>\n",
    "</td>\n",
    "</tr>\n",
    "</table>\n"
   ]
  }
 ],
 "metadata": {
  "kernelspec": {
   "display_name": "Python 3",
   "language": "python",
   "name": "python3"
  },
  "language_info": {
   "codemirror_mode": {
    "name": "ipython",
    "version": 3
   },
   "file_extension": ".py",
   "mimetype": "text/x-python",
   "name": "python",
   "nbconvert_exporter": "python",
   "pygments_lexer": "ipython3",
   "version": "3.8.10"
  }
 },
 "nbformat": 4,
 "nbformat_minor": 1
}
