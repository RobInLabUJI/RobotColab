{
  "nbformat": 4,
  "nbformat_minor": 0,
  "metadata": {
    "colab": {
      "name": "00_Motion.ipynb",
      "provenance": [],
      "collapsed_sections": [],
      "include_colab_link": true
    },
    "kernelspec": {
      "name": "python3",
      "display_name": "Python 3"
    },
    "language_info": {
      "name": "python"
    }
  },
  "cells": [
    {
      "cell_type": "markdown",
      "metadata": {
        "id": "view-in-github",
        "colab_type": "text"
      },
      "source": [
        "<a href=\"https://colab.research.google.com/github/RobInLabUJI/RobotColab/blob/ir2102_2023/Notebooks/IR2102/00_Motion.ipynb\" target=\"_parent\"><img src=\"https://colab.research.google.com/assets/colab-badge.svg\" alt=\"Open In Colab\"/></a>"
      ]
    },
    {
      "cell_type": "markdown",
      "metadata": {
        "id": "IODJMTJwOgHI"
      },
      "source": [
        "# Locomotion\n",
        "\n",
        "[Mobile robots](https://en.wikipedia.org/wiki/Mobile_robot) are capable of moving around in their environment (locomotion).\n",
        "\n",
        "One of the most common mobile robots is a 2-wheeled vehicle moving in the ground, where each wheel is independently powered by an electric motor. One or more additional free wheels can be used for keeping the robot stable. \n",
        "Such robots are called [differential wheeled robots](https://en.wikipedia.org/wiki/Differential_wheeled_robot). \n",
        "\n",
        "Virtually all consumer robots on the market today (e.g. [Roomba](https://robots.ieee.org/robots/roomba/)) and many research platforms ([Pioneer](https://robots.ieee.org/robots/pioneer/), [TurtleBot](https://robots.ieee.org/robots/turtlebot/)) are differential wheeled robots because of its low cost and simplicity.\n",
        "\n",
        "In this notebook you will learn how to move a TurtleBot3 robot.\n"
      ]
    },
    {
      "cell_type": "markdown",
      "metadata": {
        "id": "yBfEUu7vUDfp"
      },
      "source": [
        "# Connecting to the robot\n",
        "\n",
        "Prior to running the code below please make sure that:\n",
        "1. The TurtleBot3 is running.\n",
        "2. Jupyter is launched and running.\n",
        "3. This notebook is **connected to the local machine**.\n",
        "\n",
        "Then proceed with the execution of the following cells:"
      ]
    },
    {
      "cell_type": "code",
      "metadata": {
        "id": "B2LPIfFtsIkg"
      },
      "source": [
        "from TurtleBot3.Controllers import TurtleBot3Robot"
      ],
      "execution_count": null,
      "outputs": []
    },
    {
      "cell_type": "code",
      "metadata": {
        "id": "o13RY_Re4cwI"
      },
      "source": [
        "robot = TurtleBot3Robot()"
      ],
      "execution_count": null,
      "outputs": []
    },
    {
      "cell_type": "markdown",
      "metadata": {
        "id": "zNEiVqkcVQoL"
      },
      "source": [
        "# Basic Motions"
      ]
    },
    {
      "cell_type": "code",
      "metadata": {
        "id": "YOlHYSaHmSTp"
      },
      "source": [
        "robot.forward()"
      ],
      "execution_count": null,
      "outputs": []
    },
    {
      "cell_type": "code",
      "metadata": {
        "id": "is2ETwMGcw_n"
      },
      "source": [
        "robot.stop()"
      ],
      "execution_count": null,
      "outputs": []
    },
    {
      "cell_type": "code",
      "metadata": {
        "id": "I1UDKgf-WSWZ"
      },
      "source": [
        "robot.backward()"
      ],
      "execution_count": null,
      "outputs": []
    },
    {
      "cell_type": "code",
      "source": [
        "robot.stop()"
      ],
      "metadata": {
        "id": "s2D_qqsXVKXO"
      },
      "execution_count": null,
      "outputs": []
    },
    {
      "cell_type": "code",
      "source": [
        "robot.turnLeft()"
      ],
      "metadata": {
        "id": "HZAl4WWV6Hbc"
      },
      "execution_count": null,
      "outputs": []
    },
    {
      "cell_type": "code",
      "source": [
        "robot.turnRight()"
      ],
      "metadata": {
        "id": "xLGS2DHQ6KTq"
      },
      "execution_count": null,
      "outputs": []
    },
    {
      "cell_type": "code",
      "source": [
        "robot.stop()"
      ],
      "metadata": {
        "id": "Dz46_muP6LNj"
      },
      "execution_count": null,
      "outputs": []
    },
    {
      "cell_type": "code",
      "source": [],
      "metadata": {
        "id": "OgxtPKl76L1N"
      },
      "execution_count": null,
      "outputs": []
    }
  ]
}