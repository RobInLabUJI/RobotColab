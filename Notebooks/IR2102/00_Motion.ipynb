{
  "nbformat": 4,
  "nbformat_minor": 0,
  "metadata": {
    "colab": {
      "name": "00_Motion.ipynb",
      "provenance": [],
      "collapsed_sections": [],
      "include_colab_link": true
    },
    "kernelspec": {
      "name": "python3",
      "display_name": "Python 3"
    },
    "language_info": {
      "name": "python"
    }
  },
  "cells": [
    {
      "cell_type": "markdown",
      "metadata": {
        "id": "view-in-github",
        "colab_type": "text"
      },
      "source": [
        "<a href=\"https://colab.research.google.com/github/RobInLabUJI/RobotColab/blob/ir2102_2023/Notebooks/IR2102/00_Motion.ipynb\" target=\"_parent\"><img src=\"https://colab.research.google.com/assets/colab-badge.svg\" alt=\"Open In Colab\"/></a>"
      ]
    },
    {
      "cell_type": "markdown",
      "metadata": {
        "id": "IODJMTJwOgHI"
      },
      "source": [
        "# Locomotion\n",
        "\n",
        "[Mobile robots](https://en.wikipedia.org/wiki/Mobile_robot) are capable of moving around in their environment (locomotion).\n",
        "\n",
        "One of the most common mobile robots is a 2-wheeled vehicle moving in the ground, where each wheel is independently powered by an electric motor. One or more additional free wheels can be used for keeping the robot stable. \n",
        "Such robots are called [differential wheeled robots](https://en.wikipedia.org/wiki/Differential_wheeled_robot). \n",
        "\n",
        "Virtually all consumer robots on the market today (e.g. [Roomba](https://robots.ieee.org/robots/roomba/)) and many research platforms ([Pioneer](https://robots.ieee.org/robots/pioneer/), [TurtleBot](https://robots.ieee.org/robots/turtlebot/)) are differential wheeled robots because of its low cost and simplicity.\n",
        "\n",
        "In this notebook you will learn how to move a TurtleBot3 robot.\n"
      ]
    },
    {
      "cell_type": "markdown",
      "metadata": {
        "id": "yBfEUu7vUDfp"
      },
      "source": [
        "# Connecting to the robot\n",
        "\n",
        "Prior to running the code below please make sure that:\n",
        "1. The TurtleBot3 is running.\n",
        "2. Jupyter is launched and running.\n",
        "3. This notebook is **connected to the local machine**.\n",
        "\n",
        "Then proceed with the execution of the following cells:"
      ]
    },
    {
      "cell_type": "code",
      "metadata": {
        "id": "B2LPIfFtsIkg"
      },
      "source": [
        "from TurtleBot3.Controllers import TurtleBot3Robot\n",
        "import time"
      ],
      "execution_count": 1,
      "outputs": []
    },
    {
      "cell_type": "code",
      "metadata": {
        "id": "o13RY_Re4cwI"
      },
      "source": [
        "robot = TurtleBot3Robot()"
      ],
      "execution_count": 2,
      "outputs": []
    },
    {
      "cell_type": "markdown",
      "metadata": {
        "id": "zNEiVqkcVQoL"
      },
      "source": [
        "# Basic Motions"
      ]
    },
    {
      "cell_type": "code",
      "metadata": {
        "id": "YOlHYSaHmSTp"
      },
      "source": [
        "robot.forward(0.5)"
      ],
      "execution_count": 7,
      "outputs": []
    },
    {
      "cell_type": "code",
      "metadata": {
        "id": "is2ETwMGcw_n",
        "outputId": "442628cf-7615-4082-e28a-731d2d8f149a",
        "colab": {
          "base_uri": "https://localhost:8080/"
        }
      },
      "source": [
        "robot.stop()"
      ],
      "execution_count": 4,
      "outputs": [
        {
          "output_type": "execute_result",
          "data": {
            "text/plain": [
              "0"
            ]
          },
          "metadata": {},
          "execution_count": 4
        }
      ]
    },
    {
      "cell_type": "code",
      "metadata": {
        "id": "I1UDKgf-WSWZ",
        "outputId": "75cfe40e-341f-4f78-b20c-78d9e90b1cef",
        "colab": {
          "base_uri": "https://localhost:8080/"
        }
      },
      "source": [
        "robot.getPose()"
      ],
      "execution_count": 10,
      "outputs": [
        {
          "output_type": "execute_result",
          "data": {
            "text/plain": [
              "(-0.02014933153986931, 0.10091449320316315, -4.587536374818362)"
            ]
          },
          "metadata": {},
          "execution_count": 10
        }
      ]
    },
    {
      "cell_type": "code",
      "source": [
        "robot.move_(0.5,0)"
      ],
      "metadata": {
        "id": "s2D_qqsXVKXO"
      },
      "execution_count": 12,
      "outputs": []
    }
  ]
}