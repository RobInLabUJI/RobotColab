{
  "nbformat": 4,
  "nbformat_minor": 0,
  "metadata": {
    "colab": {
      "name": "03_MoreOdometry.ipynb",
      "provenance": [],
      "toc_visible": true,
      "authorship_tag": "ABX9TyOIYbV38u6RDZ/1XHIjdx/7",
      "include_colab_link": true
    },
    "kernelspec": {
      "name": "python3",
      "display_name": "Python 3"
    },
    "language_info": {
      "name": "python"
    }
  },
  "cells": [
    {
      "cell_type": "markdown",
      "metadata": {
        "id": "view-in-github",
        "colab_type": "text"
      },
      "source": [
        "<a href=\"https://colab.research.google.com/github/RobInLabUJI/RobotColab/blob/main/Notebooks/MobileRobots/03_MoreOdometry.ipynb\" target=\"_parent\"><img src=\"https://colab.research.google.com/assets/colab-badge.svg\" alt=\"Open In Colab\"/></a>"
      ]
    },
    {
      "cell_type": "markdown",
      "metadata": {
        "id": "ILBW0tiRmQVS"
      },
      "source": [
        "# Odometry-based localization\n",
        "\n",
        "<img src=\"https://raw.githubusercontent.com/RobInLabUJI/RobotColab/main/Notebooks/MobileRobots/Images/robot_localization.svg\" align=\"right\">\n",
        "\n",
        "In a previous notebook we used odometry for computing the distance traveled by the robot, or the turned angle.\n",
        "\n",
        "With some additional mathematics, odometry can be used to compute the position $(x,y)$ and orientation $\\theta$ of the robot with respect to its initial position. \n",
        "\n",
        "The mathematical derivation is out of the scope of this course, but the interested reader can refer to [this book](https://mitpress.mit.edu/books/introduction-autonomous-mobile-robots-second-edition).\n",
        "\n",
        "This functionality is usually implemented in the robot controller. In these notebooks, the pose of the Pioneer robot can be retrieved with the method:\n",
        "```\n",
        "robot.getPose()\n",
        "```\n",
        "which returns $(x, y, \\theta)$ in meters and radians respectively."
      ]
    },
    {
      "cell_type": "markdown",
      "metadata": {
        "id": "tPGGDxCHgttl"
      },
      "source": [
        "## Coordinate frame conventions\n",
        "All systems are right-handed. This means they comply with the [right hand rule](http://en.wikipedia.org/wiki/Right-hand_rule).\n",
        "\n",
        "In relation to the robot's body the standard is:\n",
        "* x forward\n",
        "* y left\n",
        "* z up"
      ]
    },
    {
      "cell_type": "markdown",
      "metadata": {
        "id": "RGXKy-vfiJob"
      },
      "source": [
        "## Drift\n",
        "\n",
        "The estimated pose of a mobile platform can drift over time, without any bounds. It is useful as an accurate, short-term local reference, but drift makes it useless as a long-tem global reference.\n",
        "\n",
        "We can use the estimated pose for computing the traveled distance or the turned angle with respect to a recent position."
      ]
    },
    {
      "cell_type": "markdown",
      "metadata": {
        "id": "KYb02SeVi544"
      },
      "source": [
        "# Exercises"
      ]
    },
    {
      "cell_type": "markdown",
      "metadata": {
        "id": "Jfi_WFcji8AQ"
      },
      "source": [
        "## Move forward for a given distance\n",
        "\n",
        "If the current position of the robot is $(x_0,y_0)$, program the robot to go forward for a distance $d$ up to a new position $(x,y)$ such that\n",
        "\n",
        "$$\n",
        "d = \\sqrt{(x-x_0)^2+(y-y_0)^2}\n",
        "$$"
      ]
    },
    {
      "cell_type": "code",
      "metadata": {
        "id": "kHChrLgpi7IS"
      },
      "source": [
        ""
      ],
      "execution_count": null,
      "outputs": []
    },
    {
      "cell_type": "markdown",
      "metadata": {
        "id": "zGa-Nsh9jRZZ"
      },
      "source": [
        "## Turn for a given angle\n",
        "\n",
        "If the current orientation of the robot is $\\theta_0$, program the robot to turn (clockwise or counterclockwise) for an angle $\\Delta\\theta$ up to a new orientation $\\theta$ such that\n",
        "\n",
        "$$\n",
        "\\Delta\\theta = | \\theta - \\theta_0 |\n",
        "$$\n"
      ]
    },
    {
      "cell_type": "markdown",
      "metadata": {
        "id": "LJAlZi3Qk28l"
      },
      "source": [
        "## A new version of the square trajectory\n",
        "\n",
        "Program a new version of the square trajectory with the previous functions."
      ]
    },
    {
      "cell_type": "code",
      "metadata": {
        "id": "nymyOzMXmJkp"
      },
      "source": [
        ""
      ],
      "execution_count": null,
      "outputs": []
    }
  ]
}