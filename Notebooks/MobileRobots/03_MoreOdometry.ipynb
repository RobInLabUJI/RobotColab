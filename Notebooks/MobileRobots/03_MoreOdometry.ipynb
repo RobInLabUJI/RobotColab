{
  "nbformat": 4,
  "nbformat_minor": 0,
  "metadata": {
    "colab": {
      "name": "03_MoreOdometry.ipynb",
      "provenance": [],
      "toc_visible": true,
      "authorship_tag": "ABX9TyN7/+YHaEEzbE/I5VozgH8N",
      "include_colab_link": true
    },
    "kernelspec": {
      "name": "python3",
      "display_name": "Python 3"
    },
    "language_info": {
      "name": "python"
    }
  },
  "cells": [
    {
      "cell_type": "markdown",
      "metadata": {
        "id": "view-in-github",
        "colab_type": "text"
      },
      "source": [
        "<a href=\"https://colab.research.google.com/github/RobInLabUJI/RobotColab/blob/main/Notebooks/MobileRobots/03_MoreOdometry.ipynb\" target=\"_parent\"><img src=\"https://colab.research.google.com/assets/colab-badge.svg\" alt=\"Open In Colab\"/></a>"
      ]
    },
    {
      "cell_type": "markdown",
      "metadata": {
        "id": "ILBW0tiRmQVS"
      },
      "source": [
        "# Odometry-based localization\n",
        "\n",
        "<img src=\"https://raw.githubusercontent.com/RobInLabUJI/RobotColab/main/Notebooks/MobileRobots/Images/robot_localization.svg\" align=\"right\">\n",
        "\n",
        "In a previous notebook we used odometry for computing the distance traveled by the robot, or the turned angle.\n",
        "\n",
        "With some additional mathematics, odometry can be used to compute the position $(x,y)$ and orientation $\\theta$ of the robot with respect to its initial position. \n",
        "\n",
        "The mathematical derivation is out of the scope of this course, but the interested reader can refer to [this book](https://mitpress.mit.edu/books/introduction-autonomous-mobile-robots-second-edition).\n",
        "\n",
        "This functionality is usually implemented in the robot controller. In these notebooks, the pose of the Pioneer robot can be retrieved with the method:\n",
        "```\n",
        "robot.getPose()\n",
        "```\n",
        "which returns $(x, y, \\theta)$ in meters and radians respectively."
      ]
    },
    {
      "cell_type": "code",
      "metadata": {
        "id": "nymyOzMXmJkp"
      },
      "source": [
        ""
      ],
      "execution_count": null,
      "outputs": []
    }
  ]
}