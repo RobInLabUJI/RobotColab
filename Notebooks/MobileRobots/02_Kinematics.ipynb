{
  "nbformat": 4,
  "nbformat_minor": 0,
  "metadata": {
    "colab": {
      "name": "02_Kinematics.ipynb",
      "provenance": [],
      "toc_visible": true,
      "authorship_tag": "ABX9TyPQMMJRVjtbWBqw0knH/HVT",
      "include_colab_link": true
    },
    "kernelspec": {
      "name": "python3",
      "display_name": "Python 3"
    },
    "language_info": {
      "name": "python"
    }
  },
  "cells": [
    {
      "cell_type": "markdown",
      "metadata": {
        "id": "view-in-github",
        "colab_type": "text"
      },
      "source": [
        "<a href=\"https://colab.research.google.com/github/RobInLabUJI/RobotColab/blob/main/Notebooks/MobileRobots/02_Kinematics.ipynb\" target=\"_parent\"><img src=\"https://colab.research.google.com/assets/colab-badge.svg\" alt=\"Open In Colab\"/></a>"
      ]
    },
    {
      "cell_type": "markdown",
      "metadata": {
        "id": "4qFQzjb6UGdv"
      },
      "source": [
        "# Kinematics\n",
        "\n",
        "[Kinematics](https://en.wikipedia.org/wiki/Kinematics) describe the motion of things withouth considering the forces that cause them to move.\n",
        "\n",
        "For a mobile robot, it consists of computing the linear and angular speed of the robot body given the velocities of the wheels.\n",
        "\n",
        "And the inverse problem: given the linear and angular velocities, which are the wheel velocities that achieve the desired motion."
      ]
    },
    {
      "cell_type": "markdown",
      "metadata": {
        "id": "IYtgjPrKWpUc"
      },
      "source": [
        "# Motion of a differential-drive robot\n",
        "In this type of robot the wheels turn at some angular velocity $(\\omega_l, \\omega_r)$.\n",
        "<img src=\"https://raw.githubusercontent.com/RobInLabUJI/RobotColab/main/Notebooks/MobileRobots/Images/robot_velocity.svg\" align=\"right\">\n",
        "\n",
        "The relationship between the angular and linear velocity of the wheels is:\n",
        "$$\n",
        "V_l = \\omega_l r \\\\\n",
        "V_r = \\omega_r r\n",
        "$$\n",
        "where $r$ is the radius of the wheel.\n",
        "\n",
        "The linear and angular velocity of the robot can be expressed by:\n",
        "$$\n",
        "V_{robot} = \\frac{V_l+V_r}{2} \\\\\n",
        "\\omega_{robot} = \\frac{V_r-V_l}{L}\n",
        "$$\n",
        "where $L$ is the distance between the wheels.\n",
        "\n",
        "The inverse problem can be solved in a straightforward way:\n",
        "$$\n",
        "\\omega_l = \\frac{2 V_{robot} - L \\omega_{robot}}{2r} \\\\\n",
        "\\omega_r = \\frac{2 V_{robot} + L \\omega_{robot}}{2r}\n",
        "$$"
      ]
    },
    {
      "cell_type": "markdown",
      "metadata": {
        "id": "vCl5Ev0uaZZD"
      },
      "source": [
        "## Exercise: `move` function\n",
        "\n",
        "Program a Python function that receives the robot linear and angular velocity as arguments and sets the angular velocities of the wheels of the Pioneer robot, with the following structure (the values of $r$ and $L$ have been introduced in previous notebooks):\n",
        "\n"
      ]
    },
    {
      "cell_type": "code",
      "metadata": {
        "id": "UPwzG1dzTvto"
      },
      "source": [
        "def move(v, w):\n",
        "  r = ...\n",
        "  L = ...\n",
        "  wl = ...\n",
        "  wr = ...\n",
        "  robot.leftMotor.setVelocity(wl)\n",
        "  robot.rightMotor.setVelocity(wr)"
      ],
      "execution_count": null,
      "outputs": []
    },
    {
      "cell_type": "markdown",
      "metadata": {
        "id": "CUKUA1WEeUPj"
      },
      "source": [
        "# Applications\n",
        "Use the `move` function of the previous exercise together with the measurement of distance and angle as seen in the `Odometry` notebook for programming the following trajectories for the mobile robot."
      ]
    },
    {
      "cell_type": "markdown",
      "metadata": {
        "id": "4NHJL4Ree0a0"
      },
      "source": [
        "<img src=\"https://github.com/RobInLabUJI/RobotColab/raw/main/Notebooks/MobileRobots/Images/trajectory_square.png\" align =\"right\" height=\"240\">\n",
        "\n",
        "## Square trajectory\n",
        "The robot will move forward at a constant speed for a distance, then turn right on-site for 90 degrees.\n",
        "\n",
        "The previous steps will be repeated four times, and the robot will stop at the initial location."
      ]
    },
    {
      "cell_type": "code",
      "metadata": {
        "id": "EKYd1Y0gf8TV"
      },
      "source": [
        ""
      ],
      "execution_count": null,
      "outputs": []
    },
    {
      "cell_type": "markdown",
      "metadata": {
        "id": "_dEmmkuRb5Zy"
      },
      "source": [
        "<img src=\"https://github.com/RobInLabUJI/RobotColab/raw/main/Notebooks/MobileRobots/Images/trajectory_eight.png\" align =\"right\" height=\"240\">\n",
        "\n",
        "## Eight-shaped trajectory\n",
        "The robot will turn left at a constant linear and angular speed.\n",
        "\n",
        "After completing a circle, the robot will turn right at the same linear speed with the opposite angular speed.\n",
        "\n",
        "It will complete a second circle and stop at the initial localtion."
      ]
    },
    {
      "cell_type": "code",
      "metadata": {
        "id": "unHSy1QTf64F"
      },
      "source": [
        ""
      ],
      "execution_count": null,
      "outputs": []
    }
  ]
}