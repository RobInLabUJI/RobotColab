{
  "nbformat": 4,
  "nbformat_minor": 0,
  "metadata": {
    "colab": {
      "name": "061_SquareChallenge.ipynb",
      "provenance": [],
      "authorship_tag": "ABX9TyPHNt9IQphyKo81C+2WJwfY",
      "include_colab_link": true
    },
    "kernelspec": {
      "name": "python3",
      "display_name": "Python 3"
    },
    "language_info": {
      "name": "python"
    }
  },
  "cells": [
    {
      "cell_type": "markdown",
      "metadata": {
        "id": "view-in-github",
        "colab_type": "text"
      },
      "source": [
        "<a href=\"https://colab.research.google.com/github/RobInLabUJI/RobotColab/blob/main/Notebooks/MobileRobots/061_SquareChallenge.ipynb\" target=\"_parent\"><img src=\"https://colab.research.google.com/assets/colab-badge.svg\" alt=\"Open In Colab\"/></a>"
      ]
    },
    {
      "cell_type": "markdown",
      "metadata": {
        "id": "4NHJL4Ree0a0"
      },
      "source": [
        "<img src=\"https://github.com/RobInLabUJI/RobotColab/raw/main/Notebooks/MobileRobots/Images/trajectory_square.png\" align =\"right\" height=\"240\">\n",
        "\n",
        "## Square Challenge\n",
        "The robot will move forward at a constant speed for a distance, then turn right on-site for 90 degrees. Distances and angles can be computed based on the speed of the robot and the time.\n",
        "\n",
        "The motion will be repeated four times, and the robot will stop at the initial location.\n",
        "\n",
        "You can use a Python loop or just copy-and-paste the necessary statements."
      ]
    },
    {
      "cell_type": "markdown",
      "metadata": {
        "id": "zDNlPdGCHlwi"
      },
      "source": [
        "### Level 1: Webots, time-controlled\n",
        "\n",
        "Fill the cells below with the missing code.\n",
        "\n",
        "Use the `move(v,w)` function for setting the linear and angular speeds of the robot along with `sleep` statements to control the distance and angle."
      ]
    },
    {
      "cell_type": "code",
      "metadata": {
        "id": "UPwzG1dzTvto"
      },
      "source": [
        "def move(v, w):\n",
        "  r = ...\n",
        "  L = ...\n",
        "  wl = ...\n",
        "  wr = ...\n",
        "  robot.leftMotor.setVelocity(wl)\n",
        "  robot.rightMotor.setVelocity(wr)"
      ],
      "execution_count": null,
      "outputs": []
    },
    {
      "cell_type": "code",
      "metadata": {
        "id": "EKYd1Y0gf8TV"
      },
      "source": [
        "from Pioneer3.Controllers import PioneerRobot, sleep"
      ],
      "execution_count": null,
      "outputs": []
    },
    {
      "cell_type": "code",
      "metadata": {
        "id": "unHSy1QTf64F"
      },
      "source": [
        "robot = PioneerRobot()"
      ],
      "execution_count": null,
      "outputs": []
    },
    {
      "cell_type": "code",
      "metadata": {
        "id": "3qoEM9RwI03h"
      },
      "source": [
        ""
      ],
      "execution_count": null,
      "outputs": []
    }
  ]
}