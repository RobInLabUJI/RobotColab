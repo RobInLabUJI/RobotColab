{
  "nbformat": 4,
  "nbformat_minor": 0,
  "metadata": {
    "colab": {
      "name": "062_SquareChallenge.ipynb",
      "provenance": [],
      "authorship_tag": "ABX9TyPzKpGwo3lL3Kc0z71S1Zxg",
      "include_colab_link": true
    },
    "kernelspec": {
      "name": "python3",
      "display_name": "Python 3"
    },
    "language_info": {
      "name": "python"
    }
  },
  "cells": [
    {
      "cell_type": "markdown",
      "metadata": {
        "id": "view-in-github",
        "colab_type": "text"
      },
      "source": [
        "<a href=\"https://colab.research.google.com/github/RobInLabUJI/RobotColab/blob/main/Notebooks/MobileRobots/062_SquareChallenge.ipynb\" target=\"_parent\"><img src=\"https://colab.research.google.com/assets/colab-badge.svg\" alt=\"Open In Colab\"/></a>"
      ]
    },
    {
      "cell_type": "markdown",
      "metadata": {
        "id": "4NHJL4Ree0a0"
      },
      "source": [
        "<img src=\"https://github.com/RobInLabUJI/RobotColab/raw/main/Notebooks/MobileRobots/Images/turtlebot3_square.png\" align =\"right\" height=\"240\">\n",
        "\n",
        "## Square Challenge\n",
        "The robot will move forward at a constant speed for a distance, then turn right on-site for 90 degrees. Distances and angles can be computed based on the speed of the robot and the time.\n",
        "\n",
        "The motion will be repeated four times, and the robot will stop at the initial location.\n",
        "\n",
        "You can use a Python loop or just copy-and-paste the necessary statements."
      ]
    },
    {
      "cell_type": "markdown",
      "metadata": {
        "id": "zDNlPdGCHlwi"
      },
      "source": [
        "### Level 2: TurtleBot 3, time-controlled\n",
        "\n",
        "Fill the cells below with the necessary code, using the following functions:\n",
        "\n",
        "* `robot.move(v,w)` for setting the linear (m/s) and angular (rad/s) speed of the robot\n",
        "* `sleep(t)` for waiting `t` seconds while the robot moves"
      ]
    },
    {
      "cell_type": "code",
      "metadata": {
        "id": "EKYd1Y0gf8TV"
      },
      "source": [
        "from TurtleBot3.Controllers import TurtleBot3Robot, sleep"
      ],
      "execution_count": null,
      "outputs": []
    },
    {
      "cell_type": "code",
      "metadata": {
        "id": "unHSy1QTf64F"
      },
      "source": [
        "robot = TurtleBot3Robot()"
      ],
      "execution_count": null,
      "outputs": []
    },
    {
      "cell_type": "code",
      "metadata": {
        "id": "3qoEM9RwI03h"
      },
      "source": [
        ""
      ],
      "execution_count": null,
      "outputs": []
    }
  ]
}