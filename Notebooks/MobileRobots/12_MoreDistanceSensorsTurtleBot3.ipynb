{
  "nbformat": 4,
  "nbformat_minor": 0,
  "metadata": {
    "colab": {
      "name": "12_MoreDistanceSensorsTurtleBot3.ipynb",
      "provenance": [],
      "authorship_tag": "ABX9TyMiCfAKcm0/MS7/VerDeEB2",
      "include_colab_link": true
    },
    "kernelspec": {
      "name": "python3",
      "display_name": "Python 3"
    },
    "language_info": {
      "name": "python"
    }
  },
  "cells": [
    {
      "cell_type": "markdown",
      "metadata": {
        "id": "view-in-github",
        "colab_type": "text"
      },
      "source": [
        "<a href=\"https://colab.research.google.com/github/RobInLabUJI/RobotColab/blob/main/Notebooks/MobileRobots/12_MoreDistanceSensorsTurtleBot3.ipynb\" target=\"_parent\"><img src=\"https://colab.research.google.com/assets/colab-badge.svg\" alt=\"Open In Colab\"/></a>"
      ]
    },
    {
      "cell_type": "markdown",
      "metadata": {
        "id": "E1ZFgzf6s6h1"
      },
      "source": [
        "<img src=\"https://upload.wikimedia.org/wikipedia/commons/thumb/c/c0/LIDAR-scanned-SICK-LMS-animation.gif/220px-LIDAR-scanned-SICK-LMS-animation.gif\" align=\"right\">\n",
        "\n",
        "# Laser rangefinder (Lidar)\n",
        "\n",
        "This sensor determines the distance to an object with a laser by measuring the time for the reflected light to return to the receiver.\n",
        "\n",
        "*Lidar* is an acronym of \"light detection and ranging\" or \"laser imaging, detection, and ranging\". Modern lidars can deliver 3D scans bust most popular devices used in robotics work in a plane.\n",
        "\n",
        "As shown in the figure, a [basic lidar system](https://en.wikipedia.org/wiki/Lidar#Technology) involves a laser range finder reflected by a rotating mirror (top). The laser is scanned around the scene being digitized, in one or two dimensions (middle), gathering distance measurements at specified angle intervals (bottom).\n",
        "\n",
        "The working principle of lidars and ultrasonic sensors is the same, but using light signals instead of sound has several advantages:\n",
        "* faster measurements\n",
        "* better precision\n",
        "* better accuracy\n",
        "\n",
        "Nevertheless, lidars might not able to detect transparent or dark-colored objects whereas ultrasonic sensors are not affected."
      ]
    },
    {
      "cell_type": "markdown",
      "metadata": {
        "id": "04jfxLfa1CMl"
      },
      "source": [
        "<img src=\"https://www.hokuyo-aut.jp/p/product/20160223104902_527.jpg\" align=\"right\">\n",
        "\n",
        "## Hokuyo URG-04LX\n",
        "\n",
        "The Hokuyo URG-04LX is a lidar designed for lightweight indoor robots. It has the following specifications:\n",
        "* `field of view`: 240 [deg]\n",
        "* `range`: 0.06 to 4.095 [m]\n",
        "* `resolution`: 667 * 0.36 [deg]\n",
        "\n",
        "Measurements are read with the function `getRangeImage` which returns a list of distances (or `inf` for values out of range). The first value corresponds to the left of the robot."
      ]
    },
    {
      "cell_type": "code",
      "metadata": {
        "id": "j5xfCtO01BLz"
      },
      "source": [
        "from TurtleBot3.Controllers import TurtleBot3Robot, sleep\n",
        "robot = TurtleBot3Robot()"
      ],
      "execution_count": 1,
      "outputs": []
    },
    {
      "cell_type": "code",
      "metadata": {
        "id": "4Nejv8Zos0pK"
      },
      "source": [
        "d = robot.getScan()"
      ],
      "execution_count": 2,
      "outputs": []
    },
    {
      "cell_type": "code",
      "metadata": {
        "colab": {
          "base_uri": "https://localhost:8080/"
        },
        "id": "i6euegpx7X27",
        "outputId": "167ea9e5-0f63-4458-a273-273529dbf385"
      },
      "source": [
        "len(d)"
      ],
      "execution_count": 5,
      "outputs": [
        {
          "output_type": "execute_result",
          "data": {
            "text/plain": [
              "360"
            ]
          },
          "metadata": {},
          "execution_count": 5
        }
      ]
    },
    {
      "cell_type": "code",
      "metadata": {
        "id": "0bf4Lzfp7h1N"
      },
      "source": [
        "import matplotlib.pyplot as plt"
      ],
      "execution_count": 6,
      "outputs": []
    },
    {
      "cell_type": "code",
      "metadata": {
        "colab": {
          "base_uri": "https://localhost:8080/",
          "height": 265
        },
        "id": "W0-4Eh2x7kKO",
        "outputId": "29483743-67b7-4862-ca8c-ea3169ecd680"
      },
      "source": [
        "plt.plot(d,'.');"
      ],
      "execution_count": 8,
      "outputs": [
        {
          "output_type": "display_data",
          "data": {
            "text/plain": [
              "<Figure size 432x288 with 1 Axes>"
            ],
            "image/png": "[encoded data removed]"
          },
          "metadata": {
            "needs_background": "light"
          }
        }
      ]
    },
    {
      "cell_type": "code",
      "metadata": {
        "id": "fUPuAKt28cl_"
      },
      "source": [
        "import numpy as np"
      ],
      "execution_count": 9,
      "outputs": []
    },
    {
      "cell_type": "code",
      "metadata": {
        "id": "GJGvb25p85Zg"
      },
      "source": [
        "a = np.linspace(0,360,360,False)*np.pi/180"
      ],
      "execution_count": 10,
      "outputs": []
    },
    {
      "cell_type": "code",
      "metadata": {
        "colab": {
          "base_uri": "https://localhost:8080/",
          "height": 269
        },
        "id": "XPHvQIyy8-qw",
        "outputId": "14c5a24d-3e36-4134-c753-e7906dcc71eb"
      },
      "source": [
        "d = robot.getScan()\n",
        "plt.plot(np.multiply(d,np.cos(a)),np.multiply(d,np.sin(a)),'.');\n",
        "plt.axis([-1,1,-1,1]);"
      ],
      "execution_count": 11,
      "outputs": [
        {
          "output_type": "display_data",
          "data": {
            "text/plain": [
              "<Figure size 432x288 with 1 Axes>"
            ],
            "image/png": "[encoded data removed]"
          },
          "metadata": {
            "needs_background": "light"
          }
        }
      ]
    },
    {
      "cell_type": "code",
      "metadata": {
        "colab": {
          "base_uri": "https://localhost:8080/",
          "height": 269
        },
        "id": "8ghHyzFL9zUg",
        "outputId": "177e652c-80ff-4533-c0dc-47005a7f16e4"
      },
      "source": [
        "d = robot.getScan()\n",
        "plt.plot(np.multiply(d,np.cos(a)),np.multiply(d,np.sin(a)),'.');\n",
        "plt.axis([-1,1,-1,1]);"
      ],
      "execution_count": 12,
      "outputs": [
        {
          "output_type": "display_data",
          "data": {
            "text/plain": [
              "<Figure size 432x288 with 1 Axes>"
            ],
            "image/png": "[encoded data removed]"
          },
          "metadata": {
            "needs_background": "light"
          }
        }
      ]
    },
    {
      "cell_type": "markdown",
      "metadata": {
        "id": "zTxvdteL6eGi"
      },
      "source": [
        "The distance for a specific angle can be obtained with:\n",
        "\n"
      ]
    },
    {
      "cell_type": "code",
      "metadata": {
        "id": "QzSqypQU2rzh"
      },
      "source": [
        "angle = 120\n",
        "index = int(angle/0.36)\n",
        "d[index]"
      ],
      "execution_count": null,
      "outputs": []
    },
    {
      "cell_type": "markdown",
      "metadata": {
        "id": "EToZZNVoAS0c"
      },
      "source": [
        "And the minimum value within a cone specified by two angles is:"
      ]
    },
    {
      "cell_type": "code",
      "metadata": {
        "id": "REc2PF9W-Enx"
      },
      "source": [
        "cone = (105, 135)\n",
        "leftIndex = int(cone[0]/0.36)\n",
        "rightIndex = int(cone[1]/0.36)\n",
        "min(d[leftIndex:rightIndex])"
      ],
      "execution_count": null,
      "outputs": []
    },
    {
      "cell_type": "markdown",
      "metadata": {
        "id": "k6vdcR5JA4jl"
      },
      "source": [
        "# Wandering\n",
        "\n",
        "Write a new version of the wandering algorithm for the lidar sensor."
      ]
    },
    {
      "cell_type": "code",
      "metadata": {
        "id": "R5kqaruM8z-h"
      },
      "source": [
        ""
      ],
      "execution_count": null,
      "outputs": []
    },
    {
      "cell_type": "markdown",
      "metadata": {
        "id": "CmOhkv7TA_ic"
      },
      "source": [
        "# Wall following\n",
        "\n",
        "Write a new version of the wall-following algorithm for the lidar sensor."
      ]
    },
    {
      "cell_type": "code",
      "metadata": {
        "id": "oAUY7qDPBDjn"
      },
      "source": [
        ""
      ],
      "execution_count": null,
      "outputs": []
    }
  ]
}