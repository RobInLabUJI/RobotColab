{
  "nbformat": 4,
  "nbformat_minor": 0,
  "metadata": {
    "colab": {
      "name": "31_PickingChallengePioneer.ipynb",
      "provenance": [],
      "authorship_tag": "ABX9TyOoyshVNUyMdBVH99kToPPh",
      "include_colab_link": true
    },
    "kernelspec": {
      "name": "python3",
      "display_name": "Python 3"
    },
    "language_info": {
      "name": "python"
    }
  },
  "cells": [
    {
      "cell_type": "markdown",
      "metadata": {
        "id": "view-in-github",
        "colab_type": "text"
      },
      "source": [
        "<a href=\"https://colab.research.google.com/github/RobInLabUJI/RobotColab/blob/main/Notebooks/MobileRobots/31_PickingChallengePioneer.ipynb\" target=\"_parent\"><img src=\"https://colab.research.google.com/assets/colab-badge.svg\" alt=\"Open In Colab\"/></a>"
      ]
    },
    {
      "cell_type": "markdown",
      "metadata": {
        "id": "85shL5-qaw3X"
      },
      "source": [
        "# Picking Challenge\n",
        "\n",
        "1. Switch on the robot\n",
        "2. Launch driver: `rosrun p2os_driver p2os_driver _port:=/dev/ttyUSB0`\n",
        "3. Set motors on: `rostopic pub -1 /cmd_motor_state p2os_msgs/MotorState 1`"
      ]
    },
    {
      "cell_type": "code",
      "metadata": {
        "id": "E-7SzumlZ0dg"
      },
      "source": [
        "from Pioneer3.Controllers import PioneerRobot, sleep"
      ],
      "execution_count": null,
      "outputs": []
    },
    {
      "cell_type": "code",
      "metadata": {
        "id": "94ky2-fHZ9Tr"
      },
      "source": [
        "robot = PioneerRobot()"
      ],
      "execution_count": null,
      "outputs": []
    },
    {
      "cell_type": "markdown",
      "metadata": {
        "id": "mLG-3aLlnMxH"
      },
      "source": [
        "## Gripper control\n",
        "\n",
        "These are the functions for controlling the gripper:"
      ]
    },
    {
      "cell_type": "code",
      "metadata": {
        "id": "wNeO1r3kaSnQ"
      },
      "source": [
        "robot.gripperOpen()"
      ],
      "execution_count": null,
      "outputs": []
    },
    {
      "cell_type": "code",
      "metadata": {
        "id": "nym36o4Qhr4a"
      },
      "source": [
        "robot.gripperDown()"
      ],
      "execution_count": null,
      "outputs": []
    },
    {
      "cell_type": "code",
      "metadata": {
        "id": "PxXoBnghcn41"
      },
      "source": [
        "robot.gripperClose()"
      ],
      "execution_count": null,
      "outputs": []
    },
    {
      "cell_type": "code",
      "metadata": {
        "id": "u4cqY4OKco2N"
      },
      "source": [
        "robot.gripperUp()"
      ],
      "execution_count": null,
      "outputs": []
    },
    {
      "cell_type": "markdown",
      "metadata": {
        "id": "S_QL_l_jYMXF"
      },
      "source": [
        "## Camera"
      ]
    },
    {
      "cell_type": "code",
      "metadata": {
        "id": "rQf3-xC3cqkN"
      },
      "source": [
        "from ImageProcessing.Algorithms import display"
      ],
      "execution_count": null,
      "outputs": []
    },
    {
      "cell_type": "code",
      "metadata": {
        "id": "L5V6wXCJYVww"
      },
      "source": [
        "image = robot.getImage()\n",
        "display(image)"
      ],
      "execution_count": null,
      "outputs": []
    },
    {
      "cell_type": "markdown",
      "metadata": {
        "id": "l9kOdpdXuDVQ"
      },
      "source": [
        "## Motion"
      ]
    },
    {
      "cell_type": "code",
      "metadata": {
        "id": "8BLP21FMY7FZ"
      },
      "source": [
        "robot.move(0,0.25)\n",
        "sleep(1)\n",
        "robot.move(0,0)"
      ],
      "execution_count": null,
      "outputs": []
    },
    {
      "cell_type": "code",
      "metadata": {
        "id": "DXcHufntZVV4"
      },
      "source": [
        "robot.move(0,-0.25)\n",
        "sleep(1)\n",
        "robot.move(0,0)"
      ],
      "execution_count": null,
      "outputs": []
    },
    {
      "cell_type": "code",
      "metadata": {
        "id": "vdVelLTPuW7P"
      },
      "source": [
        "robot.move(0.1,0)\n",
        "sleep(1)\n",
        "robot.move(0,0)"
      ],
      "execution_count": null,
      "outputs": []
    },
    {
      "cell_type": "code",
      "metadata": {
        "id": "yDINUdgQuZDX"
      },
      "source": [
        "robot.move(-0.1,0)\n",
        "sleep(1)\n",
        "robot.move(0,0)"
      ],
      "execution_count": null,
      "outputs": []
    },
    {
      "cell_type": "code",
      "metadata": {
        "id": "W9Kdfyp7ub8P"
      },
      "source": [
        ""
      ],
      "execution_count": null,
      "outputs": []
    }
  ]
}