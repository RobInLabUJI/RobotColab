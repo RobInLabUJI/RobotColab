{
  "nbformat": 4,
  "nbformat_minor": 0,
  "metadata": {
    "colab": {
      "name": "241_VisualControlTurtleBot3.ipynb",
      "provenance": [],
      "collapsed_sections": [],
      "authorship_tag": "ABX9TyOFnLC9eHA+SCRH1NPf3s+4",
      "include_colab_link": true
    },
    "kernelspec": {
      "name": "python3",
      "display_name": "Python 3"
    },
    "language_info": {
      "name": "python"
    }
  },
  "cells": [
    {
      "cell_type": "markdown",
      "metadata": {
        "id": "view-in-github",
        "colab_type": "text"
      },
      "source": [
        "<a href=\"https://colab.research.google.com/github/RobInLabUJI/RobotColab/blob/main/Notebooks/MobileRobots/241_VisualControlTurtleBot3.ipynb\" target=\"_parent\"><img src=\"https://colab.research.google.com/assets/colab-badge.svg\" alt=\"Open In Colab\"/></a>"
      ]
    },
    {
      "cell_type": "markdown",
      "metadata": {
        "id": "Eto-0fWSuJ_y"
      },
      "source": [
        "# Visual control with the TurtleBot 3\n",
        "\n",
        "In the previous notebooks you have learnt to process the image, extract the coordinates of a blob, and control a simulated robot.\n",
        "\n",
        "Now you will use those coordinates for controlling the motion of a real robot, the TurtleBot 3."
      ]
    },
    {
      "cell_type": "code",
      "metadata": {
        "id": "2RDKptM2T_c6"
      },
      "source": [
        "from TurtleBot3.Controllers import TurtleBot3Robot\n",
        "from ImageProcessing.Algorithms import display, Color, colorFilter, blobDetector"
      ],
      "execution_count": null,
      "outputs": []
    },
    {
      "cell_type": "code",
      "metadata": {
        "id": "ir_9lze_UKTC"
      },
      "source": [
        "robot = TurtleBot3Robot()"
      ],
      "execution_count": null,
      "outputs": []
    },
    {
      "cell_type": "code",
      "metadata": {
        "id": "3cpHH4TLUPJR"
      },
      "source": [
        "image = robot.getImage()\n",
        "display(image)"
      ],
      "execution_count": null,
      "outputs": []
    },
    {
      "cell_type": "markdown",
      "metadata": {
        "id": "h-2AkBWPuZAG"
      },
      "source": [
        "# Centering and approaching a ball\n",
        "\n",
        "Make a program that:\n",
        "\n",
        "1. centers the ball in the image\n",
        "2. approaches the ball\n",
        "3. prints the horizontal error\n",
        "4. centers again the ball in the image\n",
        "5. prints the horizontal error after the correction\n",
        "\n",
        "Test your program in the robot with each colored ball (red, green, yellow, and blue) and write down a table with the horizontal errors before and after the correction."
      ]
    },
    {
      "cell_type": "code",
      "metadata": {
        "id": "3vLo0s5aAtvf"
      },
      "source": [
        ""
      ],
      "execution_count": null,
      "outputs": []
    }
  ]
}