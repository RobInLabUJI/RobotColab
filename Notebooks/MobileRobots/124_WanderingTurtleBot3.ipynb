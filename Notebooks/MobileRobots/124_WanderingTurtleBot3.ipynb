{
  "nbformat": 4,
  "nbformat_minor": 0,
  "metadata": {
    "colab": {
      "name": "124_WanderingTurtleBot3.ipynb",
      "provenance": [],
      "collapsed_sections": [],
      "authorship_tag": "ABX9TyP1M1kEHZ2JG2j2pYIcIupM",
      "include_colab_link": true
    },
    "kernelspec": {
      "name": "python3",
      "display_name": "Python 3"
    },
    "language_info": {
      "name": "python"
    }
  },
  "cells": [
    {
      "cell_type": "markdown",
      "metadata": {
        "id": "view-in-github",
        "colab_type": "text"
      },
      "source": [
        "<a href=\"https://colab.research.google.com/github/RobInLabUJI/RobotColab/blob/main/Notebooks/MobileRobots/124_WanderingTurtleBot3.ipynb\" target=\"_parent\"><img src=\"https://colab.research.google.com/assets/colab-badge.svg\" alt=\"Open In Colab\"/></a>"
      ]
    },
    {
      "cell_type": "markdown",
      "metadata": {
        "id": "E1ZFgzf6s6h1"
      },
      "source": [
        "# Wandering Challenge\n",
        "\n",
        "A simple wandering behavior can be achieved by the combination\n",
        "of the obstacle detection and turning behaviors:\n",
        "```\n",
        "repeat forever\n",
        "  move forward until an obstacle is detected\n",
        "  turn randomly\n",
        "```\n",
        "\n",
        "Instead of starting from scratch, you should reuse and adapt the code of the Webots wandering challenge."
      ]
    },
    {
      "cell_type": "code",
      "metadata": {
        "id": "j5xfCtO01BLz"
      },
      "source": [
        "from TurtleBot3.Controllers import TurtleBot3Robot, sleep\n",
        "robot = TurtleBot3Robot()"
      ],
      "execution_count": null,
      "outputs": []
    },
    {
      "cell_type": "code",
      "metadata": {
        "id": "I7ocNV02tt5o"
      },
      "source": [
        ""
      ],
      "execution_count": null,
      "outputs": []
    }
  ]
}