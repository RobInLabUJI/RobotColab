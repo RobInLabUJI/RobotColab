{
  "nbformat": 4,
  "nbformat_minor": 0,
  "metadata": {
    "colab": {
      "name": "20_Vision.ipynb",
      "provenance": [],
      "authorship_tag": "ABX9TyO30uomMzQM+lTcFslf44s9",
      "include_colab_link": true
    },
    "kernelspec": {
      "name": "python3",
      "display_name": "Python 3"
    },
    "language_info": {
      "name": "python"
    }
  },
  "cells": [
    {
      "cell_type": "markdown",
      "metadata": {
        "id": "view-in-github",
        "colab_type": "text"
      },
      "source": [
        "<a href=\"https://colab.research.google.com/github/RobInLabUJI/RobotColab/blob/main/Notebooks/MobileRobots/20_Vision.ipynb\" target=\"_parent\"><img src=\"https://colab.research.google.com/assets/colab-badge.svg\" alt=\"Open In Colab\"/></a>"
      ]
    },
    {
      "cell_type": "markdown",
      "metadata": {
        "id": "Eto-0fWSuJ_y"
      },
      "source": [
        "# Image acquisition"
      ]
    },
    {
      "cell_type": "code",
      "metadata": {
        "id": "2RDKptM2T_c6"
      },
      "source": [
        "from Pioneer3.Controllers import PioneerRobot\n",
        "from ImageProcessing.Algorithms import display"
      ],
      "execution_count": null,
      "outputs": []
    },
    {
      "cell_type": "code",
      "metadata": {
        "id": "ir_9lze_UKTC"
      },
      "source": [
        "robot = PioneerRobot()"
      ],
      "execution_count": null,
      "outputs": []
    },
    {
      "cell_type": "code",
      "metadata": {
        "id": "KhHBiit7OrnE"
      },
      "source": [
        "robot.kinect.tiltMotor.setPosition(0)"
      ],
      "execution_count": null,
      "outputs": []
    },
    {
      "cell_type": "code",
      "metadata": {
        "id": "3cpHH4TLUPJR"
      },
      "source": [
        "image = robot.kinect.getColorImage()\n",
        "display(image)"
      ],
      "execution_count": null,
      "outputs": []
    },
    {
      "cell_type": "markdown",
      "metadata": {
        "id": "h-2AkBWPuZAG"
      },
      "source": [
        "# Image processing\n",
        "\n",
        "For image processing we will use the cross-platform and free [OpenCV library](https://docs.opencv.org/4.2.0/) together with [Numpy](https://numpy.org/) for numerical operations."
      ]
    },
    {
      "cell_type": "code",
      "metadata": {
        "id": "6lCLosuHepkQ"
      },
      "source": [
        "import cv2, numpy"
      ],
      "execution_count": null,
      "outputs": []
    },
    {
      "cell_type": "markdown",
      "metadata": {
        "id": "wL3suDjRubTG"
      },
      "source": [
        "## Color filtering\n",
        "\n",
        "<img src=\"https://upload.wikimedia.org/wikipedia/commons/thumb/5/5d/HSV-RGB-comparison.svg/300px-HSV-RGB-comparison.svg.png\" align=\"right\">\n",
        "\n",
        "Color images are usually encoded with red, green, and blue values (RGB) for each pixel. A good technique for color filtering is to transform RGB images into hue, saturation, and value images (HSV). The `hue` value encodes the color information, and can be easily thresholded for detecting a specific color in the image.\n",
        "\n",
        "The cyan color has a hue angle of 180 degrees (of 360), a saturation of\n",
        "100% and a value of 100%. However, since OpenCV uses a different scale (H: 0 - 180, S: 0 - 255, V: 0 - 255), the cyan hue angle is 90."
      ]
    },
    {
      "cell_type": "code",
      "metadata": {
        "id": "zEmr8ZG_uc_5"
      },
      "source": [
        "hsv = cv2.cvtColor(image, cv2.COLOR_RGB2HSV)"
      ],
      "execution_count": null,
      "outputs": []
    },
    {
      "cell_type": "code",
      "metadata": {
        "id": "MsB_tJvSRxYI"
      },
      "source": [
        "lower_cyan = numpy.array([80, 100, 100])\n",
        "upper_cyan = numpy.array([100, 255, 255])"
      ],
      "execution_count": null,
      "outputs": []
    },
    {
      "cell_type": "code",
      "metadata": {
        "id": "G2RyTrgZR1QL"
      },
      "source": [
        "mask = cv2.inRange(hsv, lower_cyan, upper_cyan)\n",
        "display(mask)"
      ],
      "execution_count": null,
      "outputs": []
    },
    {
      "cell_type": "markdown",
      "metadata": {
        "id": "rFJdnPmPOHwt"
      },
      "source": [
        "## Region of Interest"
      ]
    },
    {
      "cell_type": "code",
      "metadata": {
        "id": "KDZDoMcCR7cP"
      },
      "source": [
        "image.shape"
      ],
      "execution_count": null,
      "outputs": []
    },
    {
      "cell_type": "code",
      "metadata": {
        "id": "ibNsiHcdONFb"
      },
      "source": [
        "roi = image[50:75,:,:]\n",
        "display(roi)"
      ],
      "execution_count": null,
      "outputs": []
    },
    {
      "cell_type": "code",
      "metadata": {
        "id": "bIstnGNWOTN6"
      },
      "source": [
        "hsv = cv2.cvtColor(roi, cv2.COLOR_RGB2HSV)\n",
        "mask = cv2.inRange(hsv, lower_cyan, upper_cyan)\n",
        "display(mask)"
      ],
      "execution_count": null,
      "outputs": []
    },
    {
      "cell_type": "markdown",
      "metadata": {
        "id": "EC0TOrG-ueDR"
      },
      "source": [
        "## Blob detection"
      ]
    },
    {
      "cell_type": "code",
      "metadata": {
        "id": "drSWTRlUu7xB"
      },
      "source": [
        "M = cv2.moments(mask)\n",
        "cx = int(M['m10']/M['m00'])\n",
        "cy = int(M['m01']/M['m00'])\n",
        "cx, cy"
      ],
      "execution_count": null,
      "outputs": []
    },
    {
      "cell_type": "code",
      "metadata": {
        "id": "s23xK5JtSzsd"
      },
      "source": [
        ""
      ],
      "execution_count": null,
      "outputs": []
    }
  ]
}