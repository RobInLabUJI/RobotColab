{
  "nbformat": 4,
  "nbformat_minor": 0,
  "metadata": {
    "colab": {
      "name": "241_VisualControlTurtleBot.ipynb",
      "provenance": [],
      "collapsed_sections": [],
      "authorship_tag": "ABX9TyN9TS7cppzfUhh5p3vhwi4T",
      "include_colab_link": true
    },
    "kernelspec": {
      "name": "python3",
      "display_name": "Python 3"
    },
    "language_info": {
      "name": "python"
    }
  },
  "cells": [
    {
      "cell_type": "markdown",
      "metadata": {
        "id": "view-in-github",
        "colab_type": "text"
      },
      "source": [
        "<a href=\"https://colab.research.google.com/github/RobInLabUJI/RobotColab/blob/main/Notebooks/MobileRobots/241_VisualControlTurtleBot.ipynb\" target=\"_parent\"><img src=\"https://colab.research.google.com/assets/colab-badge.svg\" alt=\"Open In Colab\"/></a>"
      ]
    },
    {
      "cell_type": "markdown",
      "metadata": {
        "id": "Eto-0fWSuJ_y"
      },
      "source": [
        "<img src=\"https://github.com/RobInLabUJI/RobotColab/raw/main/Notebooks/MobileRobots/Images/turtlebot_balls.jpeg\" align=\"right\" height=\"200\">\n",
        "\n",
        "# Visual control with the TurtleBot 2\n",
        "\n",
        "In the previous notebooks you have learnt to process the image, extract the coordinates of a blob, and control a simulated robot.\n",
        "\n",
        "Now you will use those coordinates for controlling the motion of a real robot, the TurtleBot 2."
      ]
    },
    {
      "cell_type": "code",
      "metadata": {
        "id": "2RDKptM2T_c6"
      },
      "source": [
        "from TurtleBot.Controllers import TurtleBotRobot\n",
        "from ImageProcessing.Algorithms import display, Color, colorFilter, blobDetector"
      ],
      "execution_count": null,
      "outputs": []
    },
    {
      "cell_type": "code",
      "metadata": {
        "id": "ir_9lze_UKTC"
      },
      "source": [
        "robot = TurtleBotRobot()"
      ],
      "execution_count": null,
      "outputs": []
    },
    {
      "cell_type": "code",
      "metadata": {
        "id": "3cpHH4TLUPJR"
      },
      "source": [
        "image = robot.getImage()\n",
        "display(image)"
      ],
      "execution_count": null,
      "outputs": []
    },
    {
      "cell_type": "markdown",
      "metadata": {
        "id": "h-2AkBWPuZAG"
      },
      "source": [
        "# Centering and approaching a ball\n",
        "\n",
        "Make a program that:\n",
        "\n",
        "1. centers the ball in the image\n",
        "2. approaches the ball\n",
        "3. prints the horizontal error\n",
        "4. centers again the ball in the image\n",
        "5. prints the horizontal error after the correction\n",
        "\n",
        "Test your program in the simulation with each colored ball (red, blue, yellow) and write down a table with the horizontal errors before and after the correction."
      ]
    },
    {
      "cell_type": "code",
      "metadata": {
        "id": "3vLo0s5aAtvf"
      },
      "source": [
        ""
      ],
      "execution_count": null,
      "outputs": []
    }
  ]
}