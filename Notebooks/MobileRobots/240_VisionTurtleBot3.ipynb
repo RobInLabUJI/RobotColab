{
  "nbformat": 4,
  "nbformat_minor": 0,
  "metadata": {
    "colab": {
      "name": "240_VisionTurtleBot3.ipynb",
      "provenance": [],
      "collapsed_sections": [],
      "authorship_tag": "ABX9TyPmd3dFNsgjNWg863gysGzj",
      "include_colab_link": true
    },
    "kernelspec": {
      "name": "python3",
      "display_name": "Python 3"
    },
    "language_info": {
      "name": "python"
    }
  },
  "cells": [
    {
      "cell_type": "markdown",
      "metadata": {
        "id": "view-in-github",
        "colab_type": "text"
      },
      "source": [
        "<a href=\"https://colab.research.google.com/github/RobInLabUJI/RobotColab/blob/main/Notebooks/MobileRobots/240_VisionTurtleBot3.ipynb\" target=\"_parent\"><img src=\"https://colab.research.google.com/assets/colab-badge.svg\" alt=\"Open In Colab\"/></a>"
      ]
    },
    {
      "cell_type": "markdown",
      "metadata": {
        "id": "Eto-0fWSuJ_y"
      },
      "source": [
        "<img src=\"https://github.com/RobInLabUJI/RobotColab/raw/c2919d3f481fc9838bd5dfd435ff3d0a3a3be92b/Notebooks/MobileRobots/Images/turtlebot3-burger.jpg\" align=\"right\" height=280>\n",
        "\n",
        "# Image acquisition with the TurtleBot 3\n",
        "\n",
        "A USB camera is mounted on the [TurtleBot 3](https://emanual.robotis.com/docs/en/platform/turtlebot3/overview/) robot base.\n",
        "\n",
        "This camera outputs RGB images whose width and height is 640 and 480 pixels respectively.\n"
      ]
    },
    {
      "cell_type": "code",
      "metadata": {
        "id": "2RDKptM2T_c6"
      },
      "source": [
        "from TurtleBot3.Controllers import TurtleBot3Robot\n",
        "from ImageProcessing.Algorithms import display"
      ],
      "execution_count": null,
      "outputs": []
    },
    {
      "cell_type": "code",
      "metadata": {
        "id": "ir_9lze_UKTC"
      },
      "source": [
        "robot = TurtleBot3Robot()"
      ],
      "execution_count": null,
      "outputs": []
    },
    {
      "cell_type": "code",
      "metadata": {
        "id": "3cpHH4TLUPJR"
      },
      "source": [
        "image = robot.getImage()\n",
        "display(image)"
      ],
      "execution_count": null,
      "outputs": []
    },
    {
      "cell_type": "markdown",
      "metadata": {
        "id": "h-2AkBWPuZAG"
      },
      "source": [
        "# Image processing\n",
        "\n",
        "The algorithms for image processing and vision are out of the scope of this course. We will describe the very basics and provide you with some ready-to-use functions developed with the cross-platform and free [OpenCV library](https://docs.opencv.org/master/) together with [Numpy](https://numpy.org/) for numerical operations."
      ]
    },
    {
      "cell_type": "markdown",
      "metadata": {
        "id": "wL3suDjRubTG"
      },
      "source": [
        "### Color filtering\n",
        "\n",
        "<img src=\"https://upload.wikimedia.org/wikipedia/commons/thumb/5/5d/HSV-RGB-comparison.svg/300px-HSV-RGB-comparison.svg.png\" align=\"right\">\n",
        "\n",
        "Color images are usually encoded with red, green, and blue values (RGB) for each pixel. A good technique for color filtering is to transform RGB images into hue, saturation, and value images (HSV).\n",
        "\n",
        "The `colorFilter` functions takes an RGB image as an argument, converts it into the HSV space, and returns a pixel mask by filtering the values corresponding to one of the following colors:\n",
        "\n",
        "* `Color.RED`\n",
        "* `Color.ORANGE`\n",
        "* `Color.YELLOW`\n",
        "* `Color.GREEN`\n",
        "* `Color.CYAN`\n",
        "* `Color.BLUE`\n",
        "* `Color.MAGENTA`"
      ]
    },
    {
      "cell_type": "code",
      "metadata": {
        "id": "uzUd-aI25KF7"
      },
      "source": [
        "from ImageProcessing.Algorithms import Color, colorFilter"
      ],
      "execution_count": null,
      "outputs": []
    },
    {
      "cell_type": "code",
      "metadata": {
        "id": "6lCLosuHepkQ"
      },
      "source": [
        "image = robot.getImage()\n",
        "mask = colorFilter(image, Color.RED)\n",
        "display(mask)"
      ],
      "execution_count": null,
      "outputs": []
    },
    {
      "cell_type": "markdown",
      "metadata": {
        "id": "X-ujm9B3UKak"
      },
      "source": [
        "Under low light conditions, you can set a lower threshold for the saturation and value levels, as shown below:"
      ]
    },
    {
      "cell_type": "code",
      "metadata": {
        "id": "xYmQCbDbuad5"
      },
      "source": [
        "image = robot.getImage()\n",
        "mask = colorFilter(image, Color.CYAN, LOW_S=60, LOW_V=60)\n",
        "display(mask)"
      ],
      "execution_count": null,
      "outputs": []
    },
    {
      "cell_type": "markdown",
      "metadata": {
        "id": "rFJdnPmPOHwt"
      },
      "source": [
        "### Blob detection\n",
        "\n",
        "A blob is a group of connected pixels in an image that shares some common property ( e.g color ).\n",
        "\n",
        "The `blobDetector` function returns the `x, y` coordinates of the center of the binary blob segmented in the `mask` image."
      ]
    },
    {
      "cell_type": "code",
      "metadata": {
        "id": "KDZDoMcCR7cP"
      },
      "source": [
        "from ImageProcessing.Algorithms import blobDetector"
      ],
      "execution_count": null,
      "outputs": []
    },
    {
      "cell_type": "code",
      "metadata": {
        "id": "ibNsiHcdONFb"
      },
      "source": [
        "x, y = blobDetector(mask)\n",
        "print('x=%.2f y=%.2f' % (x, y))"
      ],
      "execution_count": null,
      "outputs": []
    },
    {
      "cell_type": "markdown",
      "metadata": {
        "id": "Q9cgYokj_5Wx"
      },
      "source": [
        "## Exercise\n",
        "\n",
        "Fill the cells below with the statements for:\n",
        "\n",
        "* capturing and displaying an image, \n",
        "* filtering the appropriate color and displaying the mask, \n",
        "* and computing and printing the coordinates of the blob"
      ]
    },
    {
      "cell_type": "code",
      "metadata": {
        "id": "LBLB7-FqAyP7"
      },
      "source": [
        "# Red ball\n"
      ],
      "execution_count": null,
      "outputs": []
    },
    {
      "cell_type": "code",
      "metadata": {
        "id": "l9XKGH6kAxOL"
      },
      "source": [
        "# Yellow ball\n"
      ],
      "execution_count": null,
      "outputs": []
    },
    {
      "cell_type": "code",
      "metadata": {
        "id": "3vLo0s5aAtvf"
      },
      "source": [
        "# Blue ball\n"
      ],
      "execution_count": null,
      "outputs": []
    }
  ]
}
