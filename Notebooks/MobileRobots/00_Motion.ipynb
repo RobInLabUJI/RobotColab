{
  "nbformat": 4,
  "nbformat_minor": 0,
  "metadata": {
    "colab": {
      "name": "00_Motion.ipynb",
      "provenance": [],
      "collapsed_sections": [],
      "authorship_tag": "ABX9TyMuC79t7v2EefGgW+QhQeG4",
      "include_colab_link": true
    },
    "kernelspec": {
      "name": "python3",
      "display_name": "Python 3"
    },
    "language_info": {
      "name": "python"
    }
  },
  "cells": [
    {
      "cell_type": "markdown",
      "metadata": {
        "id": "view-in-github",
        "colab_type": "text"
      },
      "source": [
        "<a href=\"https://colab.research.google.com/github/RobInLabUJI/RobotColab/blob/main/Notebooks/MobileRobots/00_Motion.ipynb\" target=\"_parent\"><img src=\"https://colab.research.google.com/assets/colab-badge.svg\" alt=\"Open In Colab\"/></a>"
      ]
    },
    {
      "cell_type": "markdown",
      "metadata": {
        "id": "IODJMTJwOgHI"
      },
      "source": [
        "# Locomotion\n",
        "\n",
        "[Mobile robots](https://en.wikipedia.org/wiki/Mobile_robot) are capable of moving around in their environment (locomotion).\n",
        "\n",
        "One of the most common mobile robots is a 2-wheeled vehicle moving in the ground, where each wheel is independently powered by an electric motor. One or more additional free wheels can be used for keeping the robot stable. \n",
        "Such robots are called [differential wheeled robots](https://en.wikipedia.org/wiki/Differential_wheeled_robot). \n",
        "\n",
        "Virtually all consumer robots on the market today (e.g. [Roomba](https://robots.ieee.org/robots/roomba/)) and many research platforms ([Pioneer](https://robots.ieee.org/robots/pioneer/), [TurtleBot](https://robots.ieee.org/robots/turtlebot/)) are differential wheeled robots because of its low cost and simplicity.\n",
        "\n",
        "In this notebook you will learn how to move a Pioneer robot by setting the velocity of each wheel.\n"
      ]
    },
    {
      "cell_type": "markdown",
      "metadata": {
        "id": "yBfEUu7vUDfp"
      },
      "source": [
        "# Connecting to the robot\n",
        "\n",
        "Prior to running the code below please make sure that:\n",
        "1. The Webots simulator is running a world with a Pioneer3 robot.\n",
        "2. Jupyter is launched and running.\n",
        "3. This notebook is **connected to the local machine** running Webots and Jupyter.\n",
        "\n",
        "Then proceed with the execution of the following cells:"
      ]
    },
    {
      "cell_type": "code",
      "metadata": {
        "id": "B2LPIfFtsIkg"
      },
      "source": [
        "from Pioneer3.Controllers import PioneerRobot"
      ],
      "execution_count": null,
      "outputs": []
    },
    {
      "cell_type": "code",
      "metadata": {
        "id": "o13RY_Re4cwI"
      },
      "source": [
        "robot = PioneerRobot()"
      ],
      "execution_count": null,
      "outputs": []
    },
    {
      "cell_type": "markdown",
      "metadata": {
        "id": "zNEiVqkcVQoL"
      },
      "source": [
        "# Basic Motions"
      ]
    },
    {
      "cell_type": "markdown",
      "metadata": {
        "id": "5g2gn80YWnbl"
      },
      "source": [
        "## Forward and backward"
      ]
    },
    {
      "cell_type": "markdown",
      "metadata": {
        "id": "CNK15OUpVs4Q"
      },
      "source": [
        "For moving the robot we set the velocity in [*radian per second* [rad/s]](https://en.wikipedia.org/wiki/Radian_per_second) of each wheel. \n",
        "* If both velocities are positive and equal then the robot will move forward.\n",
        "* If they are negative and equal, the robot will move backward. \n",
        "* If the velocities are zero, the robot will stop."
      ]
    },
    {
      "cell_type": "code",
      "metadata": {
        "id": "YOlHYSaHmSTp"
      },
      "source": [
        "robot.leftMotor.setVelocity(1.5)\n",
        "robot.rightMotor.setVelocity(1.5)"
      ],
      "execution_count": null,
      "outputs": []
    },
    {
      "cell_type": "code",
      "metadata": {
        "id": "is2ETwMGcw_n"
      },
      "source": [
        "robot.leftMotor.setVelocity(-1.5)\n",
        "robot.rightMotor.setVelocity(-1.5)"
      ],
      "execution_count": null,
      "outputs": []
    },
    {
      "cell_type": "code",
      "metadata": {
        "id": "I1UDKgf-WSWZ"
      },
      "source": [
        "robot.leftMotor.setVelocity(0)\n",
        "robot.rightMotor.setVelocity(0)"
      ],
      "execution_count": null,
      "outputs": []
    },
    {
      "cell_type": "markdown",
      "metadata": {
        "id": "GU0KZ86WWwgF"
      },
      "source": [
        "## Turning\n",
        "If the velocities are different, the robot will spin. The angle and radius of curvature depends on the values, but some typical turning motions are:\n",
        "* If one of the velocities is zero, the robot will rotate around the contact of the stopped wheel.\n",
        "* If the magnitude of the velocities is the same but their sign is opposite, the robot will rotate around the center the axis between the wheels.\n",
        "\n",
        "Try any combination in the cell below, by putting the appropriate values between the parentheses of the functions. You can edit and execute the cell as many times as you wish."
      ]
    },
    {
      "cell_type": "code",
      "metadata": {
        "id": "AnUacsxdXyc2"
      },
      "source": [
        "robot.leftMotor.setVelocity( )\n",
        "robot.rightMotor.setVelocity( )"
      ],
      "execution_count": null,
      "outputs": []
    },
    {
      "cell_type": "markdown",
      "metadata": {
        "id": "ixTFrMirZSD2"
      },
      "source": [
        "# Trajectories\n",
        "A simple method of moving the robot along a predefined trajectory is to define a sequence of forward and turning motion steps, with a pause after each step to allow the robot to move with the commanded velocity during the specified amount of time. \n",
        "\n",
        "Try the following cells for a simple trajectory. You can edit the values of the velocities and pauses, add new steps, execute the sequence, and observe the result in the simulator."
      ]
    },
    {
      "cell_type": "code",
      "metadata": {
        "id": "0_ORNJh9YCyX"
      },
      "source": [
        "from Pioneer3.Controllers import sleep"
      ],
      "execution_count": null,
      "outputs": []
    },
    {
      "cell_type": "code",
      "metadata": {
        "id": "I53r2EMlaNlM"
      },
      "source": [
        "robot.leftMotor.setVelocity(1.5)\n",
        "robot.rightMotor.setVelocity(1.5)\n",
        "sleep(3)\n",
        "\n",
        "robot.leftMotor.setVelocity(1.5)\n",
        "robot.rightMotor.setVelocity(-1.5)\n",
        "sleep(1)\n",
        "\n",
        "robot.leftMotor.setVelocity(1.5)\n",
        "robot.rightMotor.setVelocity(1.5)\n",
        "sleep(3)\n",
        "\n",
        "robot.leftMotor.setVelocity(0)\n",
        "robot.rightMotor.setVelocity(0)"
      ],
      "execution_count": null,
      "outputs": []
    },
    {
      "cell_type": "markdown",
      "metadata": {
        "id": "87-7A5vVcCAv"
      },
      "source": [
        "# Open questions\n",
        "* How to move the robot *a specific distance in meters*?\n",
        "* How to turn the robot *a specific angle in radians or degrees*?"
      ]
    }
  ]
}