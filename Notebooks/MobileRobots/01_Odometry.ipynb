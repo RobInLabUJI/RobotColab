{
  "nbformat": 4,
  "nbformat_minor": 0,
  "metadata": {
    "colab": {
      "name": "01_Odometry.ipynb",
      "provenance": [],
      "authorship_tag": "ABX9TyNSlJv0YW9kLJV191IVbB+h",
      "include_colab_link": true
    },
    "kernelspec": {
      "name": "python3",
      "display_name": "Python 3"
    },
    "language_info": {
      "name": "python"
    }
  },
  "cells": [
    {
      "cell_type": "markdown",
      "metadata": {
        "id": "view-in-github",
        "colab_type": "text"
      },
      "source": [
        "<a href=\"https://colab.research.google.com/github/RobInLabUJI/RobotColab/blob/main/Notebooks/MobileRobots/01_Odometry.ipynb\" target=\"_parent\"><img src=\"https://colab.research.google.com/assets/colab-badge.svg\" alt=\"Open In Colab\"/></a>"
      ]
    },
    {
      "cell_type": "markdown",
      "metadata": {
        "id": "I6AdsKD-AmuC"
      },
      "source": [
        "# Odometry\n",
        "\n",
        "[Odometry](https://en.wikipedia.org/wiki/Odometry) is the use of data from motion sensors to estimate change in position over time.\n",
        "\n",
        "In a wheeled robot, odometry can be used to estimate the position relative to a starting location.\n",
        "\n",
        "The word odometry is composed from the Greek words ὁδός (*odos*), meaning\"route\" and  μέτρον (*metron*), meaning \"[measure](https://en.wikipedia.org/wiki/Eratosthenes#Arc_measurement)\". "
      ]
    },
    {
      "cell_type": "markdown",
      "metadata": {
        "id": "RkPE5a5ZCJhm"
      },
      "source": [
        "# Encoders\n",
        "\n",
        "A [rotary encoder](https://en.wikipedia.org/wiki/Rotary_encoder) is a sensor that measures the angular position of a rotating element, e.g. a wheel.\n",
        "\n",
        "Connect to the robot and execute the following cells for retrieving the value of the encoders before and after the motion:"
      ]
    },
    {
      "cell_type": "code",
      "metadata": {
        "id": "08Lm04_fAer-"
      },
      "source": [
        "from Pioneer3.Controllers import PioneerRobot, sleep"
      ],
      "execution_count": null,
      "outputs": []
    },
    {
      "cell_type": "code",
      "metadata": {
        "id": "Z5u6-FskF3bb"
      },
      "source": [
        "robot = PioneerRobot()"
      ],
      "execution_count": null,
      "outputs": []
    },
    {
      "cell_type": "code",
      "metadata": {
        "id": "SFYC2tB6Gg4M"
      },
      "source": [
        "initialLeftWheelSensor = robot.leftWheelSensor.getValue()\n",
        "initialRightWheelSensor = robot.rightWheelSensor.getValue()\n",
        "robot.leftMotor.setVelocity(-1)\n",
        "robot.rightMotor.setVelocity(-1)\n",
        "sleep(3)\n",
        "robot.leftMotor.setVelocity(0)\n",
        "robot.rightMotor.setVelocity(0)\n",
        "finalLeftWheelSensor = robot.leftWheelSensor.getValue()\n",
        "finalRightWheelSensor = robot.rightWheelSensor.getValue()"
      ],
      "execution_count": null,
      "outputs": []
    },
    {
      "cell_type": "code",
      "metadata": {
        "id": "3yNj4PZcGvSK"
      },
      "source": [
        "print(finalLeftWheelSensor-initialLeftWheelSensor, finalRightWheelSensor-initialRightWheelSensor)"
      ],
      "execution_count": null,
      "outputs": []
    },
    {
      "cell_type": "code",
      "metadata": {
        "id": "ESU9FRXsMZk1"
      },
      "source": [
        ""
      ],
      "execution_count": null,
      "outputs": []
    }
  ]
}