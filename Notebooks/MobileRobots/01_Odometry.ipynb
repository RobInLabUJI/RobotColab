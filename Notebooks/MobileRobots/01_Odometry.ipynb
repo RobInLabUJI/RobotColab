{
  "nbformat": 4,
  "nbformat_minor": 0,
  "metadata": {
    "colab": {
      "name": "01_Odometry.ipynb",
      "provenance": [],
      "authorship_tag": "ABX9TyNb6zmW0gogNSNveCrwtjVt",
      "include_colab_link": true
    },
    "kernelspec": {
      "name": "python3",
      "display_name": "Python 3"
    },
    "language_info": {
      "name": "python"
    }
  },
  "cells": [
    {
      "cell_type": "markdown",
      "metadata": {
        "id": "view-in-github",
        "colab_type": "text"
      },
      "source": [
        "<a href=\"https://colab.research.google.com/github/RobInLabUJI/RobotColab/blob/main/Notebooks/MobileRobots/01_Odometry.ipynb\" target=\"_parent\"><img src=\"https://colab.research.google.com/assets/colab-badge.svg\" alt=\"Open In Colab\"/></a>"
      ]
    },
    {
      "cell_type": "markdown",
      "metadata": {
        "id": "I6AdsKD-AmuC"
      },
      "source": [
        "# Odometry\n",
        "\n",
        "[Odometry](https://en.wikipedia.org/wiki/Odometry) is the use of data from motion sensors to estimate change in position over time.\n",
        "\n",
        "In a wheeled robot, odometry can be used to estimate the position relative to a starting location.\n",
        "\n",
        "The word odometry is composed from the Greek words ὁδός (*odos*), meaning\"route\" and  μέτρον (*metron*), meaning \"[measure](https://en.wikipedia.org/wiki/Eratosthenes#Arc_measurement)\". "
      ]
    },
    {
      "cell_type": "markdown",
      "metadata": {
        "id": "RkPE5a5ZCJhm"
      },
      "source": [
        "# Encoders\n",
        "\n",
        "A [rotary encoder](https://en.wikipedia.org/wiki/Rotary_encoder) is a sensor that measures the angular position of a rotating element, e.g. a wheel.\n",
        "\n",
        "Connect to the robot and execute the following cells for retrieving the value of the encoders before and after the motion:"
      ]
    },
    {
      "cell_type": "code",
      "metadata": {
        "id": "08Lm04_fAer-"
      },
      "source": [
        "from Pioneer3.Controllers import PioneerRobot, sleep"
      ],
      "execution_count": null,
      "outputs": []
    },
    {
      "cell_type": "code",
      "metadata": {
        "id": "Z5u6-FskF3bb"
      },
      "source": [
        "robot = PioneerRobot()"
      ],
      "execution_count": null,
      "outputs": []
    },
    {
      "cell_type": "code",
      "metadata": {
        "id": "SFYC2tB6Gg4M"
      },
      "source": [
        "initialLeftWheelSensor = robot.leftWheelSensor.getValue()\n",
        "initialRightWheelSensor = robot.rightWheelSensor.getValue()\n",
        "robot.leftMotor.setVelocity(-1)\n",
        "robot.rightMotor.setVelocity(-1)\n",
        "sleep(3)\n",
        "robot.leftMotor.setVelocity(0)\n",
        "robot.rightMotor.setVelocity(0)\n",
        "finalLeftWheelSensor = robot.leftWheelSensor.getValue()\n",
        "finalRightWheelSensor = robot.rightWheelSensor.getValue()"
      ],
      "execution_count": null,
      "outputs": []
    },
    {
      "cell_type": "code",
      "metadata": {
        "id": "3yNj4PZcGvSK"
      },
      "source": [
        "print(finalLeftWheelSensor-initialLeftWheelSensor, finalRightWheelSensor-initialRightWheelSensor)"
      ],
      "execution_count": null,
      "outputs": []
    },
    {
      "cell_type": "markdown",
      "metadata": {
        "id": "kfiOhmR_Oqw2"
      },
      "source": [
        "# Measuring distance\n",
        "\n",
        "If the robot is moving forward or backward (i.e. both wheels are turning at the same velocity) the distance can be computed by:\n",
        "\n",
        "$$D = \\theta R$$\n",
        "\n",
        "where\n",
        "\n",
        "* $D$ is the distance in meters\n",
        "* $\\theta$ is the turned angle in radians\n",
        "* $R$ is the wheel radius in meters\n",
        "\n",
        "## Exercises\n",
        "1. Compute the distance traveled by the robot (you can find the robot dimensions in the [specifications sheet](https://github.com/RobInLabUJI/RobotColab/blob/main/Notebooks/MobileRobots/Documents/Pioneer3DX-P3DX-RevA.pdf))."
      ]
    },
    {
      "cell_type": "code",
      "metadata": {
        "id": "ESU9FRXsMZk1"
      },
      "source": [
        ""
      ],
      "execution_count": null,
      "outputs": []
    },
    {
      "cell_type": "markdown",
      "metadata": {
        "id": "vLpHCSprTJTc"
      },
      "source": [
        "2. Move the robot forward for a specific distance (hint: use a `while` loop that terminates when the measured distance is greater than the specified value)."
      ]
    },
    {
      "cell_type": "code",
      "metadata": {
        "id": "Sz3TnKrwTnmf"
      },
      "source": [
        ""
      ],
      "execution_count": null,
      "outputs": []
    },
    {
      "cell_type": "markdown",
      "metadata": {
        "id": "F6DYhOkPS3GM"
      },
      "source": [
        "# Measuring angle"
      ]
    },
    {
      "cell_type": "code",
      "metadata": {
        "id": "Bz8WG5EZS5pO"
      },
      "source": [
        ""
      ],
      "execution_count": null,
      "outputs": []
    }
  ]
}