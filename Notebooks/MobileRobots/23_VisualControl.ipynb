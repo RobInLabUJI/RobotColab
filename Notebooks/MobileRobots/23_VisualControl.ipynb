{
  "nbformat": 4,
  "nbformat_minor": 0,
  "metadata": {
    "colab": {
      "name": "23_VisualControl.ipynb",
      "provenance": [],
      "authorship_tag": "ABX9TyN4npfI+Eq7QDwWMgmRcE/W",
      "include_colab_link": true
    },
    "kernelspec": {
      "name": "python3",
      "display_name": "Python 3"
    },
    "language_info": {
      "name": "python"
    }
  },
  "cells": [
    {
      "cell_type": "markdown",
      "metadata": {
        "id": "view-in-github",
        "colab_type": "text"
      },
      "source": [
        "<a href=\"https://colab.research.google.com/github/RobInLabUJI/RobotColab/blob/main/Notebooks/MobileRobots/23_VisualControl.ipynb\" target=\"_parent\"><img src=\"https://colab.research.google.com/assets/colab-badge.svg\" alt=\"Open In Colab\"/></a>"
      ]
    },
    {
      "cell_type": "markdown",
      "metadata": {
        "id": "ibgduIJhabHG"
      },
      "source": [
        "# Visual control\n",
        "\n",
        "In the previous notebook you have learnt to process the image and extract the coordinates of a blob.\n",
        "\n",
        "Now you will use those coordinates for controlling the motion of the robot.\n",
        "\n",
        "### Centering a ball in the image\n",
        "\n",
        "The first task consists of centering the ball in the camera image. To do so, the robot must turn either left or right.\n",
        "\n",
        "* If the X-coordinate of the ball is less than the middle of the image, the robot should turn left.\n",
        "* If the X-coordinate of the ball is greater than the middle of the image, the robot should turn right.\n",
        "* If the X-coordinate of the ball is *approximately* the middle of the image, the robot should stop.\n",
        "\n",
        "In this simulation, the width of the image is 320 pixels.\n",
        "\n",
        "Use the code template below for implementing the centering task. You should replace the missing sections with the appropriate statements."
      ]
    },
    {
      "cell_type": "code",
      "metadata": {
        "id": "Us8zfzeHaKsw"
      },
      "source": [
        "from Pioneer3.Controllers import PioneerRobot\n",
        "from time import sleep\n",
        "from ImageProcessing.Algorithms import display, Color, colorFilter, blobDetector"
      ],
      "execution_count": null,
      "outputs": []
    },
    {
      "cell_type": "code",
      "metadata": {
        "id": "bsWxZ3zJavVN"
      },
      "source": [
        "robot = PioneerRobot()"
      ],
      "execution_count": null,
      "outputs": []
    },
    {
      "cell_type": "code",
      "metadata": {
        "id": "2niXjQUMa8XB"
      },
      "source": [
        "image = robot.kinect.getColorImage()\n",
        "mask = colorFilter(image, Color.RED)\n",
        "x, y = blobDetector(mask)\n",
        "while ...:\n",
        "  if ...\n",
        "    ...\n",
        "    ...\n",
        "    ...\n",
        "  robot.move(0, ...)\n",
        "  sleep(0.02)\n",
        "  image = robot.kinect.getColorImage()\n",
        "  mask = colorFilter(image, Color.RED)\n",
        "  x, y = blobDetector(mask)\n",
        "robot.move(0,0)"
      ],
      "execution_count": null,
      "outputs": []
    },
    {
      "cell_type": "markdown",
      "metadata": {
        "id": "Kcu9uYx5eBvV"
      },
      "source": [
        "### Approaching the ball\n",
        "\n",
        "The second task consists of the robot moving forward towards the ball. \n",
        "\n",
        "This task should be simpler than the prvious one: the robot should move forward until the Y-coordinate of the ball is greater than a given threshold. \n",
        "\n",
        "This threshold should be slightly smaller than the height of the image, in order to prevent the ball from going out of the field of view.\n",
        "\n",
        "In this simulation, the height of the image is 190 pixels."
      ]
    },
    {
      "cell_type": "code",
      "metadata": {
        "id": "dLps0jJhc0KP"
      },
      "source": [
        "image = robot.kinect.getColorImage()\n",
        "mask = colorFilter(image, Color.RED)\n",
        "x, y = blobDetector(mask)\n",
        "while ...:\n",
        "  robot.move(..., 0)\n",
        "  sleep(0.02)\n",
        "  image = robot.kinect.getColorImage()\n",
        "  mask = colorFilter(image, Color.RED)\n",
        "  x, y = blobDetector(mask)\n",
        "robot.move(0,0)"
      ],
      "execution_count": null,
      "outputs": []
    },
    {
      "cell_type": "markdown",
      "metadata": {
        "id": "XjnMQFZgGC56"
      },
      "source": [
        "### Reducing the final error\n",
        "\n",
        "During the approaching phase, the ball may be decentered from its central position.\n",
        "\n",
        "In order to reduce this error, a simple solution is to perform another centering task.\n",
        "\n",
        "Make a program that: \n",
        "\n",
        "1. centers the ball in the image\n",
        "2. approaches the ball\n",
        "2. prints the horizontal error\n",
        "2. centers again the ball in the image\n",
        "3. prints the horizontal error after the correction\n",
        "\n",
        "Test your program in the simulation with each colored ball (red, blue, cyan, yellow, magenta) and write down a table with the horizontal errors before and after the correction."
      ]
    },
    {
      "cell_type": "code",
      "metadata": {
        "id": "mN7E1LLceLkk"
      },
      "source": [],
      "execution_count": null,
      "outputs": []
    }
  ]
}