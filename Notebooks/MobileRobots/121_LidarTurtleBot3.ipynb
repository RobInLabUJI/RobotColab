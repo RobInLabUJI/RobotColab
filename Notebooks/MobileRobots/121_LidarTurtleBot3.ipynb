{
  "nbformat": 4,
  "nbformat_minor": 0,
  "metadata": {
    "colab": {
      "name": "121_LidarTurtleBot3.ipynb",
      "provenance": [],
      "collapsed_sections": [],
      "authorship_tag": "ABX9TyPCg8K47BrqJIgg8fDam+qT",
      "include_colab_link": true
    },
    "kernelspec": {
      "name": "python3",
      "display_name": "Python 3"
    },
    "language_info": {
      "name": "python"
    }
  },
  "cells": [
    {
      "cell_type": "markdown",
      "metadata": {
        "id": "view-in-github",
        "colab_type": "text"
      },
      "source": [
        "<a href=\"https://colab.research.google.com/github/RobInLabUJI/RobotColab/blob/main/Notebooks/MobileRobots/121_LidarTurtleBot3.ipynb\" target=\"_parent\"><img src=\"https://colab.research.google.com/assets/colab-badge.svg\" alt=\"Open In Colab\"/></a>"
      ]
    },
    {
      "cell_type": "markdown",
      "metadata": {
        "id": "E1ZFgzf6s6h1"
      },
      "source": [
        "<img src=\"https://upload.wikimedia.org/wikipedia/commons/thumb/c/c0/LIDAR-scanned-SICK-LMS-animation.gif/220px-LIDAR-scanned-SICK-LMS-animation.gif\" align=\"right\">\n",
        "\n",
        "# Laser rangefinder (Lidar)\n",
        "\n",
        "This sensor determines the distance to an object with a laser by measuring the time for the reflected light to return to the receiver.\n",
        "\n",
        "*Lidar* is an acronym of \"light detection and ranging\" or \"laser imaging, detection, and ranging\". Modern lidars can deliver 3D scans bust most popular devices used in robotics work in a plane.\n",
        "\n",
        "As shown in the figure, a [basic lidar system](https://en.wikipedia.org/wiki/Lidar#Technology) involves a laser range finder reflected by a rotating mirror (top). The laser is scanned around the scene being digitized, in one or two dimensions (middle), gathering distance measurements at specified angle intervals (bottom).\n",
        "\n",
        "The working principle of lidars and ultrasonic sensors is the same, but using light signals instead of sound has several advantages:\n",
        "* faster measurements\n",
        "* better precision\n",
        "* better accuracy\n",
        "\n",
        "Nevertheless, lidars might not able to detect transparent or dark-colored objects whereas ultrasonic sensors are not affected."
      ]
    },
    {
      "cell_type": "markdown",
      "metadata": {
        "id": "Uf-5IXoW83az"
      },
      "source": [
        "<img src=\"https://emanual.robotis.com/assets/images/platform/turtlebot3/appendix_lds/lds.png\" align=\"right\" width=\"50%\">\n",
        "\n",
        "## LDS-01\n",
        "\n",
        "The [LDS-01](https://emanual.robotis.com/docs/en/platform/turtlebot3/appendix_lds_01/) is a small lidar suitable for the TurtleBot 3. It has the following specifications:\n",
        "* `field of view`: 360º\n",
        "* `range`: 120 ~ 3,500 [mm]\n",
        "* `resolution`: 1º\n",
        "\n",
        "Measurements are read with the function `getScan` which returns a list of distances. \n",
        "\n",
        "Invalid measurements are returned as 0s."
      ]
    },
    {
      "cell_type": "code",
      "metadata": {
        "id": "j5xfCtO01BLz"
      },
      "source": [
        "from TurtleBot3.Controllers import TurtleBot3Robot, sleep\n",
        "robot = TurtleBot3Robot()"
      ],
      "execution_count": null,
      "outputs": []
    },
    {
      "cell_type": "code",
      "metadata": {
        "id": "4Nejv8Zos0pK"
      },
      "source": [
        "robot.getScan()"
      ],
      "execution_count": null,
      "outputs": []
    },
    {
      "cell_type": "markdown",
      "metadata": {
        "id": "zTxvdteL6eGi"
      },
      "source": [
        "The distance measured at a specific angle (between 0 and 359) can be obtained by indexing the list.\n",
        "\n",
        "The indices for the most common directions are:\n",
        "\n"
      ]
    },
    {
      "cell_type": "code",
      "metadata": {
        "id": "Z4VGwgsLk_-w"
      },
      "source": [
        "FRONT = 0\n",
        "LEFT = 90\n",
        "BACK = 180\n",
        "RIGHT = 270"
      ],
      "execution_count": null,
      "outputs": []
    },
    {
      "cell_type": "markdown",
      "metadata": {
        "id": "VPbwdXJ8lRTi"
      },
      "source": [
        "<img src=\"https://github.com/RobInLabUJI/RobotColab/raw/8474d8ef7bb29f59d958d7bae07d4197d2bc4b65/Notebooks/MobileRobots/Images/distance_turtlebot3.png\" align=\"right\" width=\"30%\">\n",
        "\n",
        "### Experiment\n",
        "\n",
        "Put a box near the robot at different distances and measure the distances with the below statements."
      ]
    },
    {
      "cell_type": "code",
      "metadata": {
        "id": "QzSqypQU2rzh"
      },
      "source": [
        "d = robot.getScan()\n",
        "d[FRONT]"
      ],
      "execution_count": null,
      "outputs": []
    },
    {
      "cell_type": "code",
      "metadata": {
        "id": "mY1qkqPDkHiL"
      },
      "source": [
        "d = robot.getScan()\n",
        "d[BACK]"
      ],
      "execution_count": null,
      "outputs": []
    },
    {
      "cell_type": "code",
      "metadata": {
        "id": "gDosIZ5wkMgZ"
      },
      "source": [
        "d = robot.getScan()\n",
        "d[LEFT]"
      ],
      "execution_count": null,
      "outputs": []
    },
    {
      "cell_type": "code",
      "metadata": {
        "id": "dcS0rNyGkUE7"
      },
      "source": [
        "d = robot.getScan()\n",
        "d[RIGHT]"
      ],
      "execution_count": null,
      "outputs": []
    },
    {
      "cell_type": "code",
      "metadata": {
        "id": "R5kqaruM8z-h"
      },
      "source": [
        ""
      ],
      "execution_count": null,
      "outputs": []
    }
  ]
}