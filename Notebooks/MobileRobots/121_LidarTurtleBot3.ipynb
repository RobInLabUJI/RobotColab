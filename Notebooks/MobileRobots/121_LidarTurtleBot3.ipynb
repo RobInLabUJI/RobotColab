{
  "nbformat": 4,
  "nbformat_minor": 0,
  "metadata": {
    "colab": {
      "name": "121_LidarTurtleBot3.ipynb",
      "provenance": [],
      "authorship_tag": "ABX9TyP4oRTWSflROuB7AEMunuLL",
      "include_colab_link": true
    },
    "kernelspec": {
      "name": "python3",
      "display_name": "Python 3"
    },
    "language_info": {
      "name": "python"
    }
  },
  "cells": [
    {
      "cell_type": "markdown",
      "metadata": {
        "id": "view-in-github",
        "colab_type": "text"
      },
      "source": [
        "<a href=\"https://colab.research.google.com/github/RobInLabUJI/RobotColab/blob/main/Notebooks/MobileRobots/121_LidarTurtleBot3.ipynb\" target=\"_parent\"><img src=\"https://colab.research.google.com/assets/colab-badge.svg\" alt=\"Open In Colab\"/></a>"
      ]
    },
    {
      "cell_type": "markdown",
      "metadata": {
        "id": "E1ZFgzf6s6h1"
      },
      "source": [
        "<img src=\"https://upload.wikimedia.org/wikipedia/commons/thumb/c/c0/LIDAR-scanned-SICK-LMS-animation.gif/220px-LIDAR-scanned-SICK-LMS-animation.gif\" align=\"right\">\n",
        "\n",
        "# Laser rangefinder (Lidar)\n",
        "\n",
        "This sensor determines the distance to an object with a laser by measuring the time for the reflected light to return to the receiver.\n",
        "\n",
        "*Lidar* is an acronym of \"light detection and ranging\" or \"laser imaging, detection, and ranging\". Modern lidars can deliver 3D scans bust most popular devices used in robotics work in a plane.\n",
        "\n",
        "As shown in the figure, a [basic lidar system](https://en.wikipedia.org/wiki/Lidar#Technology) involves a laser range finder reflected by a rotating mirror (top). The laser is scanned around the scene being digitized, in one or two dimensions (middle), gathering distance measurements at specified angle intervals (bottom).\n",
        "\n",
        "The working principle of lidars and ultrasonic sensors is the same, but using light signals instead of sound has several advantages:\n",
        "* faster measurements\n",
        "* better precision\n",
        "* better accuracy\n",
        "\n",
        "Nevertheless, lidars might not able to detect transparent or dark-colored objects whereas ultrasonic sensors are not affected."
      ]
    },
    {
      "cell_type": "markdown",
      "metadata": {
        "id": "Uf-5IXoW83az"
      },
      "source": [
        "<img src=\"https://emanual.robotis.com/assets/images/platform/turtlebot3/appendix_lds/lds.png\" align=\"right\" width=\"50%\">\n",
        "\n",
        "## LDS-01\n",
        "\n",
        "The [LDS-01](https://emanual.robotis.com/docs/en/platform/turtlebot3/appendix_lds_01/) is a small lidar suitable for the TurtleBot 3. It has the following specifications:\n",
        "* `field of view`: 360º\n",
        "* `range`: 120 ~ 3,500 [mm]\n",
        "* `resolution`: 1º\n",
        "\n",
        "Measurements are read with the function `getRange` which returns a list of distances (or `inf` for values out of range). The first value corresponds to the left of the robot."
      ]
    },
    {
      "cell_type": "code",
      "metadata": {
        "id": "j5xfCtO01BLz"
      },
      "source": [
        "from TurtleBot3.Controllers import TurtleBot3Robot, sleep\n",
        "robot = TurtleBot3Robot()"
      ],
      "execution_count": null,
      "outputs": []
    },
    {
      "cell_type": "code",
      "metadata": {
        "id": "4Nejv8Zos0pK"
      },
      "source": [
        "d = robot.laser.getRange()"
      ],
      "execution_count": null,
      "outputs": []
    },
    {
      "cell_type": "markdown",
      "metadata": {
        "id": "zTxvdteL6eGi"
      },
      "source": [
        "The distance for a specific angle (between 0 and 359) can be obtained with:\n",
        "\n"
      ]
    },
    {
      "cell_type": "code",
      "metadata": {
        "id": "QzSqypQU2rzh"
      },
      "source": [
        "angle = 120\n",
        "d[angle]"
      ],
      "execution_count": null,
      "outputs": []
    },
    {
      "cell_type": "markdown",
      "metadata": {
        "id": "EToZZNVoAS0c"
      },
      "source": [
        "And the minimum value within a cone specified by two angles is:"
      ]
    },
    {
      "cell_type": "code",
      "metadata": {
        "id": "REc2PF9W-Enx",
        "colab": {
          "base_uri": "https://localhost:8080/",
          "height": 187
        },
        "outputId": "a77bbb0d-8708-4c23-d0c2-52ac0ffff14c"
      },
      "source": [
        "cone = (105, 135)\n",
        "min(d[cone[0]:cone[1]])"
      ],
      "execution_count": 1,
      "outputs": [
        {
          "output_type": "error",
          "ename": "NameError",
          "evalue": "ignored",
          "traceback": [
            "\u001b[0;31m---------------------------------------------------------------------------\u001b[0m",
            "\u001b[0;31mNameError\u001b[0m                                 Traceback (most recent call last)",
            "\u001b[0;32m<ipython-input-1-b2ec48057971>\u001b[0m in \u001b[0;36m<module>\u001b[0;34m()\u001b[0m\n\u001b[1;32m      1\u001b[0m \u001b[0mcone\u001b[0m \u001b[0;34m=\u001b[0m \u001b[0;34m(\u001b[0m\u001b[0;36m105\u001b[0m\u001b[0;34m,\u001b[0m \u001b[0;36m135\u001b[0m\u001b[0;34m)\u001b[0m\u001b[0;34m\u001b[0m\u001b[0;34m\u001b[0m\u001b[0m\n\u001b[0;32m----> 2\u001b[0;31m \u001b[0mmin\u001b[0m\u001b[0;34m(\u001b[0m\u001b[0md\u001b[0m\u001b[0;34m[\u001b[0m\u001b[0mcone\u001b[0m\u001b[0;34m[\u001b[0m\u001b[0;36m0\u001b[0m\u001b[0;34m]\u001b[0m\u001b[0;34m:\u001b[0m\u001b[0mcone\u001b[0m\u001b[0;34m[\u001b[0m\u001b[0;36m1\u001b[0m\u001b[0;34m]\u001b[0m\u001b[0;34m]\u001b[0m\u001b[0;34m)\u001b[0m\u001b[0;34m\u001b[0m\u001b[0;34m\u001b[0m\u001b[0m\n\u001b[0m",
            "\u001b[0;31mNameError\u001b[0m: name 'd' is not defined"
          ]
        }
      ]
    },
    {
      "cell_type": "markdown",
      "metadata": {
        "id": "k6vdcR5JA4jl"
      },
      "source": [
        "# Wandering\n",
        "\n",
        "Write a version of the wandering algorithm for the TurtleBot3 with the lidar sensor."
      ]
    },
    {
      "cell_type": "code",
      "metadata": {
        "id": "R5kqaruM8z-h"
      },
      "source": [
        ""
      ],
      "execution_count": null,
      "outputs": []
    }
  ]
}