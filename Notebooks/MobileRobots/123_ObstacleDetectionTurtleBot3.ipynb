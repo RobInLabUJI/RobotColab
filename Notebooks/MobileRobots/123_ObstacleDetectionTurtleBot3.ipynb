{
  "nbformat": 4,
  "nbformat_minor": 0,
  "metadata": {
    "colab": {
      "name": "123_ObstacleDetectionTurtleBot3.ipynb",
      "provenance": [],
      "collapsed_sections": [],
      "authorship_tag": "ABX9TyO0APRVtqI8V/2Tj6vhUMh3",
      "include_colab_link": true
    },
    "kernelspec": {
      "name": "python3",
      "display_name": "Python 3"
    },
    "language_info": {
      "name": "python"
    }
  },
  "cells": [
    {
      "cell_type": "markdown",
      "metadata": {
        "id": "view-in-github",
        "colab_type": "text"
      },
      "source": [
        "<a href=\"https://colab.research.google.com/github/RobInLabUJI/RobotColab/blob/main/Notebooks/MobileRobots/123_ObstacleDetectionTurtleBot3.ipynb\" target=\"_parent\"><img src=\"https://colab.research.google.com/assets/colab-badge.svg\" alt=\"Open In Colab\"/></a>"
      ]
    },
    {
      "cell_type": "markdown",
      "metadata": {
        "id": "E1ZFgzf6s6h1"
      },
      "source": [
        "# Detecting obstacles\n",
        "\n",
        "An obstacle can be detected by comparing the values returned by the lidar sensor with a predefined distance threshold.\n",
        "\n",
        "For values below that threshold, the detected obstacle is considered too close to the robot, and an action should be taken, for example stopping and/or turning, in order to avoid collision."
      ]
    },
    {
      "cell_type": "code",
      "metadata": {
        "id": "j5xfCtO01BLz"
      },
      "source": [
        "from TurtleBot3.Controllers import TurtleBot3Robot, sleep\n",
        "robot = TurtleBot3Robot()"
      ],
      "execution_count": null,
      "outputs": []
    },
    {
      "cell_type": "markdown",
      "metadata": {
        "id": "2barzsNZtcQ4"
      },
      "source": [
        "## Exercise\n",
        "\n",
        "Make a program for the robot to move **forward** until the lidar detects an obstacle in front of the robot below a given distance threshold, for example 15 centimeters."
      ]
    },
    {
      "cell_type": "code",
      "metadata": {
        "id": "R5kqaruM8z-h"
      },
      "source": [
        ""
      ],
      "execution_count": null,
      "outputs": []
    },
    {
      "cell_type": "markdown",
      "metadata": {
        "id": "KwqEwUlZttSm"
      },
      "source": [
        "## Exercise\n",
        "\n",
        "Make a program for the robot to move **backward** until the lidar detects an obstacle at the back of the robot below a given distance threshold, for example 15 centimeters."
      ]
    },
    {
      "cell_type": "code",
      "metadata": {
        "id": "I7ocNV02tt5o"
      },
      "source": [
        ""
      ],
      "execution_count": null,
      "outputs": []
    }
  ]
}