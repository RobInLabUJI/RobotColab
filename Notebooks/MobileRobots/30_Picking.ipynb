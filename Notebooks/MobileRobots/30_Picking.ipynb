{
  "nbformat": 4,
  "nbformat_minor": 0,
  "metadata": {
    "colab": {
      "name": "30_Picking.ipynb",
      "provenance": [],
      "authorship_tag": "ABX9TyOPuhqkzyh3MGJvprDhtu/5",
      "include_colab_link": true
    },
    "kernelspec": {
      "name": "python3",
      "display_name": "Python 3"
    },
    "language_info": {
      "name": "python"
    }
  },
  "cells": [
    {
      "cell_type": "markdown",
      "metadata": {
        "id": "view-in-github",
        "colab_type": "text"
      },
      "source": [
        "<a href=\"https://colab.research.google.com/github/RobInLabUJI/RobotColab/blob/main/Notebooks/MobileRobots/30_Picking.ipynb\" target=\"_parent\"><img src=\"https://colab.research.google.com/assets/colab-badge.svg\" alt=\"Open In Colab\"/></a>"
      ]
    },
    {
      "cell_type": "markdown",
      "metadata": {
        "id": "85shL5-qaw3X"
      },
      "source": [
        "<img src=\"https://github.com/RobInLabUJI/RobotColab/raw/main/Notebooks/MobileRobots/Images/gripper.png\" align=\"right\">\n",
        "\n",
        "# Picking\n",
        "\n",
        "Mechanically, the P2 Gripper is a simple, yet powerful 2-degrees of freedom robotic manipulator. Independent segments —the Gripper itself and its Lift mechanism— each are driven by reversible-DC\n",
        "motors. Embedded limit switches act to sense the Gripper and Lift positions.\n",
        "\n",
        "The P2 Gripper paddles, close together horizontally until they grasp an object or close on themselves. The grasping pressure is under software control, and varies between 200g (0.5 lbs. ) and 2kg (5 lbs.). Under independent control and drive, the Gripper's Lift mechanism reaches to the floor, rises 9cm (4\n",
        "inches), and can lift objects weighing up to 2kg (5 lbs.)."
      ]
    },
    {
      "cell_type": "code",
      "metadata": {
        "id": "E-7SzumlZ0dg"
      },
      "source": [
        "from Pioneer3.Controllers import PioneerRobot, PioneerGripper"
      ],
      "execution_count": null,
      "outputs": []
    },
    {
      "cell_type": "code",
      "metadata": {
        "id": "94ky2-fHZ9Tr"
      },
      "source": [
        "robot = PioneerRobot()\n",
        "gripper = PioneerGripper()"
      ],
      "execution_count": null,
      "outputs": []
    },
    {
      "cell_type": "markdown",
      "metadata": {
        "id": "mLG-3aLlnMxH"
      },
      "source": [
        "These are the functions for controlling the gripper:"
      ]
    },
    {
      "cell_type": "code",
      "metadata": {
        "id": "wNeO1r3kaSnQ"
      },
      "source": [
        "gripper.open()"
      ],
      "execution_count": null,
      "outputs": []
    },
    {
      "cell_type": "code",
      "metadata": {
        "id": "nym36o4Qhr4a"
      },
      "source": [
        "gripper.down()"
      ],
      "execution_count": null,
      "outputs": []
    },
    {
      "cell_type": "code",
      "metadata": {
        "id": "PxXoBnghcn41"
      },
      "source": [
        "gripper.close()"
      ],
      "execution_count": null,
      "outputs": []
    },
    {
      "cell_type": "code",
      "metadata": {
        "id": "u4cqY4OKco2N"
      },
      "source": [
        "gripper.up()"
      ],
      "execution_count": null,
      "outputs": []
    },
    {
      "cell_type": "code",
      "metadata": {
        "id": "rQf3-xC3cqkN"
      },
      "source": [
        ""
      ],
      "execution_count": null,
      "outputs": []
    }
  ]
}