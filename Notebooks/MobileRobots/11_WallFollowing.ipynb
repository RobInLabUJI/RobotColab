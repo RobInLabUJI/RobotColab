{
  "nbformat": 4,
  "nbformat_minor": 0,
  "metadata": {
    "colab": {
      "name": "11_WallFollowing.ipynb",
      "provenance": [],
      "collapsed_sections": [],
      "toc_visible": true,
      "authorship_tag": "ABX9TyPt82ZYa+Wu2htZClORB+zm",
      "include_colab_link": true
    },
    "kernelspec": {
      "name": "python3",
      "display_name": "Python 3"
    },
    "language_info": {
      "name": "python"
    }
  },
  "cells": [
    {
      "cell_type": "markdown",
      "metadata": {
        "id": "view-in-github",
        "colab_type": "text"
      },
      "source": [
        "<a href=\"https://colab.research.google.com/github/RobInLabUJI/RobotColab/blob/main/Notebooks/MobileRobots/11_WallFollowing.ipynb\" target=\"_parent\"><img src=\"https://colab.research.google.com/assets/colab-badge.svg\" alt=\"Open In Colab\"/></a>"
      ]
    },
    {
      "cell_type": "markdown",
      "metadata": {
        "id": "vFBFHbA9htsl"
      },
      "source": [
        "<img src =\"https://github.com/RobInLabUJI/RobotColab/raw/main/Notebooks/MobileRobots/Images/wall_following.png\" align=\"right\">\n",
        "\n",
        "# Challenge: wall following\n",
        "\n",
        "This is a very popular behavior for mobile robots\n",
        "indoors. The robot keeps a constant distance to a\n",
        "lateral wall (either left or right) while moving forward\n",
        "and turning at corners.\n",
        "\n",
        "In this way, the robot can explore rooms or corridors\n",
        "safely.\n",
        "\n",
        "For this application, you should program an algorithm for the robot to follow a wall with the distance sensors."
      ]
    },
    {
      "cell_type": "code",
      "metadata": {
        "id": "Y0HZH1k7htW8"
      },
      "source": [
        "from Pioneer3.Controllers import PioneerRobot, sleep\n",
        "robot = PioneerRobot()"
      ],
      "execution_count": null,
      "outputs": []
    },
    {
      "cell_type": "markdown",
      "metadata": {
        "id": "CP_J4IC3lCUZ"
      },
      "source": [
        "We recommend to define two thresholds for the minimum and maximum distances to the wall that the robot should keep to."
      ]
    },
    {
      "cell_type": "code",
      "metadata": {
        "id": "Pe3lGFIhlBpJ"
      },
      "source": [
        "MIN_WALL_THRESHOLD = 0.3\n",
        "MAX_WALL_THRESHOLD = 0.4"
      ],
      "execution_count": null,
      "outputs": []
    },
    {
      "cell_type": "markdown",
      "metadata": {
        "id": "h_J9RxFSlPhU"
      },
      "source": [
        "For the sake  of robustness, we recommend to choose low values for the linear and angular speed of the robot."
      ]
    },
    {
      "cell_type": "code",
      "metadata": {
        "id": "ot5AK-cBhoZU"
      },
      "source": [
        "LINEAR_SPEED = 0.2\n",
        "ANGULAR_SPEED = 0.15"
      ],
      "execution_count": null,
      "outputs": []
    },
    {
      "cell_type": "markdown",
      "metadata": {
        "id": "a-86lkmCl-8u"
      },
      "source": [
        "Initially the robot might not be near the wall. A simple solution is to move forward until a wall facing the robot is detected by the head sensors, then turn clockwise until the leftside sensors detect the wall.\n",
        "\n",
        "Once the robot is approximately parallel to the wall, it will move forward with small rotations to keep the lateral distance to the wall within the above defined thresholds.\n",
        "\n",
        "The robot must react to two types of corners:\n",
        "* concave corners: in this case a wall is detected in front of the robot\n",
        "* convex corners: the lateral wall is suddenly lost\n",
        "\n",
        "In both cases, the robot must rotate appropriately to keep following the wall."
      ]
    },
    {
      "cell_type": "code",
      "metadata": {
        "id": "k5vkkchgnSKJ"
      },
      "source": [
        ""
      ],
      "execution_count": null,
      "outputs": []
    }
  ]
}