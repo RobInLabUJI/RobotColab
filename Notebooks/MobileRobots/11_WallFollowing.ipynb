{
  "nbformat": 4,
  "nbformat_minor": 0,
  "metadata": {
    "colab": {
      "name": "11_WallFollowing.ipynb",
      "provenance": [],
      "collapsed_sections": [],
      "toc_visible": true,
      "authorship_tag": "ABX9TyPyPNqMyUKZlJbZxBhB+MhF",
      "include_colab_link": true
    },
    "kernelspec": {
      "name": "python3",
      "display_name": "Python 3"
    },
    "language_info": {
      "name": "python"
    }
  },
  "cells": [
    {
      "cell_type": "markdown",
      "metadata": {
        "id": "view-in-github",
        "colab_type": "text"
      },
      "source": [
        "<a href=\"https://colab.research.google.com/github/RobInLabUJI/RobotColab/blob/main/Notebooks/MobileRobots/11_WallFollowing.ipynb\" target=\"_parent\"><img src=\"https://colab.research.google.com/assets/colab-badge.svg\" alt=\"Open In Colab\"/></a>"
      ]
    },
    {
      "cell_type": "markdown",
      "metadata": {
        "id": "vFBFHbA9htsl"
      },
      "source": [
        "<img src =\"https://github.com/RobInLabUJI/RobotColab/raw/main/Notebooks/MobileRobots/Images/wall_following.png\" align=\"right\">\n",
        "\n",
        "# Wall following\n",
        "\n",
        "This is a very popular behavior for mobile robots\n",
        "indoors. The robot keeps a constant distance to a\n",
        "lateral wall (either left or right) while moving forward\n",
        "and turning at corners.\n",
        "\n",
        "In this way, the robot can explore rooms or corridors\n",
        "safely.\n",
        "\n",
        "For this application, we are going to implement in\n",
        "Python an algorithm from the\n",
        "[Javaclient for Player/Stage Project](http://java-player.sourceforge.net/examples-3.php)."
      ]
    },
    {
      "cell_type": "code",
      "metadata": {
        "id": "Y0HZH1k7htW8"
      },
      "source": [
        "from Pioneer3.Controllers import PioneerRobot, sleep\n",
        "robot = PioneerRobot()"
      ],
      "execution_count": 1,
      "outputs": []
    },
    {
      "cell_type": "markdown",
      "metadata": {
        "id": "CP_J4IC3lCUZ"
      },
      "source": [
        "We first define two threshold for the minimum and maximum distances to the wall that the robot should keep to."
      ]
    },
    {
      "cell_type": "code",
      "metadata": {
        "id": "Pe3lGFIhlBpJ"
      },
      "source": [
        "MIN_WALL_THRESHOLD = 0.3\n",
        "MAX_WALL_THRESHOLD = 0.4"
      ],
      "execution_count": null,
      "outputs": []
    },
    {
      "cell_type": "markdown",
      "metadata": {
        "id": "h_J9RxFSlPhU"
      },
      "source": [
        "Now we define the default linear and angular speed of the robot."
      ]
    },
    {
      "cell_type": "code",
      "metadata": {
        "id": "ot5AK-cBhoZU"
      },
      "source": [
        "DEF_X_SPEED = 0.2\n",
        "DEF_YAW_SPEED = 0.15"
      ],
      "execution_count": 2,
      "outputs": []
    },
    {
      "cell_type": "markdown",
      "metadata": {
        "id": "kpYjN1zsldww"
      },
      "source": [
        "We have to implement a `getSonars` function, which will return the minimium value of the left sensors (0, 1, 2) and the minimum value of the head sensors (3, 4)."
      ]
    },
    {
      "cell_type": "code",
      "metadata": {
        "id": "FBVsM4sDldXU"
      },
      "source": [
        "def getSonars():\n",
        "  leftMinimum = ...\n",
        "  headMinimum = ...\n",
        "  return leftMinimum, headMinimum"
      ],
      "execution_count": null,
      "outputs": []
    },
    {
      "cell_type": "markdown",
      "metadata": {
        "id": "a-86lkmCl-8u"
      },
      "source": [
        "We also need a function for approaching to a wall at the beginning. This function works in two steps:\n",
        "1. The robot goes forward until a wall is detected\n",
        "2. The robot turns right until sonar 0 reads a value less than the wall threshold"
      ]
    },
    {
      "cell_type": "code",
      "metadata": {
        "id": "_vKq31jtlWTK"
      },
      "source": [
        "def getWall():\n",
        "  ..."
      ],
      "execution_count": null,
      "outputs": []
    },
    {
      "cell_type": "markdown",
      "metadata": {
        "id": "CyOsCF9VnN2a"
      },
      "source": [
        "Finally, we implement the main loop."
      ]
    },
    {
      "cell_type": "code",
      "metadata": {
        "id": "k5vkkchgnSKJ"
      },
      "source": [
        "try:\n",
        "  getWall()\n",
        "  while True:\n",
        "    ...\n",
        "except KeyboardInterrupt:\n",
        "  robot.move(0,0)"
      ],
      "execution_count": null,
      "outputs": []
    }
  ]
}