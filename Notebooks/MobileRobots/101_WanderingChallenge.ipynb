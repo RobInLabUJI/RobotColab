{
  "nbformat": 4,
  "nbformat_minor": 0,
  "metadata": {
    "colab": {
      "name": "101_WanderingChallenge.ipynb",
      "provenance": [],
      "authorship_tag": "ABX9TyP4noVhucEuRSOdKof7Be9x",
      "include_colab_link": true
    },
    "kernelspec": {
      "name": "python3",
      "display_name": "Python 3"
    },
    "language_info": {
      "name": "python"
    }
  },
  "cells": [
    {
      "cell_type": "markdown",
      "metadata": {
        "id": "view-in-github",
        "colab_type": "text"
      },
      "source": [
        "<a href=\"https://colab.research.google.com/github/RobInLabUJI/RobotColab/blob/main/Notebooks/MobileRobots/101_WanderingChallenge.ipynb\" target=\"_parent\"><img src=\"https://colab.research.google.com/assets/colab-badge.svg\" alt=\"Open In Colab\"/></a>"
      ]
    },
    {
      "cell_type": "markdown",
      "metadata": {
        "id": "dVelLuAD5-kz"
      },
      "source": [
        "# Wandering challenge\n",
        "\n",
        "<img src=\"https://github.com/RobInLabUJI/RobotColab/raw/main/Notebooks/MobileRobots/Images/wandering.png\" align=\"right\">\n",
        "\n",
        "A simple wandering behavior can be achieved by the combination\n",
        "of the obstacle detection and turning behaviors:\n",
        "```\n",
        "repeat forever\n",
        "  move forward until an obstacle is detected\n",
        "  turn randomly\n",
        "```\n",
        "\n",
        "Instead of starting from scratch, you should reuse the code of the previous exercises, which can be called from inside the main loop."
      ]
    },
    {
      "cell_type": "markdown",
      "metadata": {
        "id": "A3a5rlZz7tOf"
      },
      "source": [
        "### Random decisions\n",
        "\n",
        "There are several [random functions in Python](https://docs.python.org/3.8/library/random.html). We will use the functions `choice` and `uniform`.\n",
        "\n",
        "\n"
      ]
    },
    {
      "cell_type": "code",
      "metadata": {
        "id": "HAQ8yuDK7-Bt"
      },
      "source": [
        "import random"
      ],
      "execution_count": null,
      "outputs": []
    },
    {
      "cell_type": "code",
      "metadata": {
        "id": "slwBWQxV7_iE"
      },
      "source": [
        "random.choice(['left','right'])"
      ],
      "execution_count": null,
      "outputs": []
    },
    {
      "cell_type": "code",
      "metadata": {
        "id": "k3YciYeq8MQu"
      },
      "source": [
        "random.uniform(1,3)"
      ],
      "execution_count": null,
      "outputs": []
    },
    {
      "cell_type": "markdown",
      "metadata": {
        "id": "IfXdtXJd9P_d"
      },
      "source": [
        "### Exercise: random turn\n",
        "\n",
        "A random turn of the robot will consist of the following steps:\n",
        "\n",
        "* choose the direction of turning (left or right)\n",
        "* choose the time of turning (between 1 and 3 seconds)\n",
        "* turn the robot for the selected time\n",
        "* stop the robot"
      ]
    },
    {
      "cell_type": "code",
      "metadata": {
        "id": "Q9YfDoHi9lJT"
      },
      "source": [
        "from Pioneer3.Controllers import PioneerRobot\n",
        "robot = PioneerRobot()"
      ],
      "execution_count": null,
      "outputs": []
    },
    {
      "cell_type": "code",
      "metadata": {
        "id": "areV3Yic6zbZ"
      },
      "source": [
        "# Choose direction\n",
        "# Choose time\n",
        "# Turn robot\n",
        "# Stop"
      ],
      "execution_count": null,
      "outputs": []
    },
    {
      "cell_type": "markdown",
      "metadata": {
        "id": "WJ3DzyO69Jzw"
      },
      "source": [
        "## Wandering algorithm\n",
        "\n",
        "Use the following template for the wandering behavior. Replace the `move` and `turn` sections with the appropriate code."
      ]
    },
    {
      "cell_type": "code",
      "metadata": {
        "id": "--fpJ2K07aqM"
      },
      "source": [
        "try:\n",
        "  while True:\n",
        "    # move forward until obstacle\n",
        "    # turn randomly\n",
        "except KeyboardInterrupt:\n",
        "  robot.move(0,0)"
      ],
      "execution_count": null,
      "outputs": []
    }
  ]
}