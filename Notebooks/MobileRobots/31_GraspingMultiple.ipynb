{
  "nbformat": 4,
  "nbformat_minor": 0,
  "metadata": {
    "colab": {
      "name": "31_GraspingMultiple.ipynb",
      "provenance": [],
      "toc_visible": true,
      "authorship_tag": "ABX9TyP/NUASQUmdvUOAS5Cd7rak",
      "include_colab_link": true
    },
    "kernelspec": {
      "name": "python3",
      "display_name": "Python 3"
    },
    "language_info": {
      "name": "python"
    }
  },
  "cells": [
    {
      "cell_type": "markdown",
      "metadata": {
        "id": "view-in-github",
        "colab_type": "text"
      },
      "source": [
        "<a href=\"https://colab.research.google.com/github/RobInLabUJI/RobotColab/blob/main/Notebooks/MobileRobots/31_GraspingMultiple.ipynb\" target=\"_parent\"><img src=\"https://colab.research.google.com/assets/colab-badge.svg\" alt=\"Open In Colab\"/></a>"
      ]
    },
    {
      "cell_type": "markdown",
      "metadata": {
        "id": "85shL5-qaw3X"
      },
      "source": [
        "# Grasping multiple balls"
      ]
    },
    {
      "cell_type": "code",
      "metadata": {
        "id": "E-7SzumlZ0dg"
      },
      "source": [
        "from Pioneer3.Controllers import PioneerRobot, PioneerKinect, PioneerGripper, display, sleep"
      ],
      "execution_count": null,
      "outputs": []
    },
    {
      "cell_type": "code",
      "metadata": {
        "id": "phrDGToXaoJy"
      },
      "source": [
        "import cv2, numpy"
      ],
      "execution_count": null,
      "outputs": []
    },
    {
      "cell_type": "code",
      "metadata": {
        "id": "94ky2-fHZ9Tr"
      },
      "source": [
        "robot = PioneerRobot()\n",
        "kinect = PioneerKinect()\n",
        "gripper = PioneerGripper()"
      ],
      "execution_count": null,
      "outputs": []
    },
    {
      "cell_type": "code",
      "metadata": {
        "id": "ws5IKFEFaD4S"
      },
      "source": [
        "kinect.tiltMotor.setPosition(-0.47)"
      ],
      "execution_count": null,
      "outputs": []
    },
    {
      "cell_type": "code",
      "metadata": {
        "id": "wNeO1r3kaSnQ"
      },
      "source": [
        "gripper.open()\n",
        "gripper.down()"
      ],
      "execution_count": null,
      "outputs": []
    },
    {
      "cell_type": "code",
      "metadata": {
        "id": "WNAa7_H-bigJ"
      },
      "source": [
        "lower_blue = numpy.array([110, 100, 100])\n",
        "upper_blue = numpy.array([130, 255, 255])"
      ],
      "execution_count": null,
      "outputs": []
    },
    {
      "cell_type": "code",
      "metadata": {
        "id": "hktTQjiNbwg0"
      },
      "source": [
        "image = kinect.getColorImage()\n",
        "hsv = cv2.cvtColor(image, cv2.COLOR_RGB2HSV)\n",
        "mask = cv2.inRange(hsv, lower_blue, upper_blue)\n",
        "display(mask)"
      ],
      "execution_count": null,
      "outputs": []
    },
    {
      "cell_type": "code",
      "metadata": {
        "id": "XLgXawDjb7mo"
      },
      "source": [
        "x, y, w, h = cv2.boundingRect(mask)\n",
        "bbox = cv2.rectangle(image.copy(),(x,y),(x+w,y+h),(0,255,0),2)\n",
        "display(bbox)\n",
        "x, y, w, h"
      ],
      "execution_count": null,
      "outputs": []
    },
    {
      "cell_type": "code",
      "metadata": {
        "id": "1_IGQzANfUu_"
      },
      "source": [
        "robot.move(0.01,0)"
      ],
      "execution_count": null,
      "outputs": []
    },
    {
      "cell_type": "code",
      "metadata": {
        "id": "e8srf1FChpBL"
      },
      "source": [
        "robot.move(0,0)"
      ],
      "execution_count": null,
      "outputs": []
    },
    {
      "cell_type": "code",
      "metadata": {
        "id": "nym36o4Qhr4a"
      },
      "source": [
        ""
      ],
      "execution_count": null,
      "outputs": []
    }
  ]
}