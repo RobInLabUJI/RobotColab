{
  "nbformat": 4,
  "nbformat_minor": 0,
  "metadata": {
    "colab": {
      "name": "063_SquareChallenge.ipynb",
      "provenance": [],
      "authorship_tag": "ABX9TyPhRWg3BTaZ6hu1S6dDosQL",
      "include_colab_link": true
    },
    "kernelspec": {
      "name": "python3",
      "display_name": "Python 3"
    },
    "language_info": {
      "name": "python"
    }
  },
  "cells": [
    {
      "cell_type": "markdown",
      "metadata": {
        "id": "view-in-github",
        "colab_type": "text"
      },
      "source": [
        "<a href=\"https://colab.research.google.com/github/RobInLabUJI/RobotColab/blob/main/Notebooks/MobileRobots/063_SquareChallenge.ipynb\" target=\"_parent\"><img src=\"https://colab.research.google.com/assets/colab-badge.svg\" alt=\"Open In Colab\"/></a>"
      ]
    },
    {
      "cell_type": "markdown",
      "metadata": {
        "id": "4NHJL4Ree0a0"
      },
      "source": [
        "<img src=\"https://github.com/RobInLabUJI/RobotColab/raw/main/Notebooks/MobileRobots/Images/trajectory_square.png\" align =\"right\" height=\"240\">\n",
        "\n",
        "## Square Challenge\n",
        "The robot will move forward at a constant speed for a distance, then turn right on-site for 90 degrees. Distances and angles must be computed with the odometry-based `robot.getPose` function.\n",
        "\n",
        "The motion will be repeated four times, and the robot will stop at the initial location. You should define these two functions:\n",
        "* `forward(distance)` for moving forward the given distance in meters\n",
        "* `turn(angle)` for turning the given angle in radians"
      ]
    },
    {
      "cell_type": "markdown",
      "metadata": {
        "id": "zDNlPdGCHlwi"
      },
      "source": [
        "### Level 3: Webots, odometry-controlled\n",
        "\n",
        "Fill the cells below with the necessary code, using the following functions:\n",
        "* `robot.move(v,w)` for setting the linear (m/s) and angular (rad/s) speed of the robot\n",
        "* `x, y, th = robot.getPose()` for getting the position `x,y` (m) and orientation `th` (rad) of the robot"
      ]
    },
    {
      "cell_type": "code",
      "metadata": {
        "id": "EKYd1Y0gf8TV"
      },
      "source": [
        "from Pioneer3.Controllers import PioneerRobot, sleep\n",
        "import math"
      ],
      "execution_count": null,
      "outputs": []
    },
    {
      "cell_type": "code",
      "metadata": {
        "id": "unHSy1QTf64F"
      },
      "source": [
        "robot = PioneerRobot()"
      ],
      "execution_count": null,
      "outputs": []
    },
    {
      "cell_type": "code",
      "metadata": {
        "id": "3qoEM9RwI03h"
      },
      "source": [
        "def forward(distance):\n",
        "  x0, y0, th0 = ...\n",
        "  d = 0\n",
        "  while d < distance:\n",
        "    robot.move(...)\n",
        "    sleep(0.01)\n",
        "    x, y, th = ...\n",
        "    d = ...\n",
        "  robot.move(...)"
      ],
      "execution_count": 2,
      "outputs": []
    },
    {
      "cell_type": "code",
      "metadata": {
        "id": "jWYM3JEbP3Sz"
      },
      "source": [
        "def turn(angle):\n",
        "  x0, y0, th0 = ...\n",
        "  a = 0\n",
        "  while a < angle:\n",
        "    robot.move(...)\n",
        "    sleep(0.01)\n",
        "    x, y, th = ...\n",
        "    a = ...\n",
        "  robot.move(...)"
      ],
      "execution_count": null,
      "outputs": []
    },
    {
      "cell_type": "code",
      "metadata": {
        "id": "4k0pueGfP6OV"
      },
      "source": [
        "for _ in range(4):\n",
        "  forward(1)\n",
        "  turn(math.pi/2)"
      ],
      "execution_count": null,
      "outputs": []
    }
  ]
}