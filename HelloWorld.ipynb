{
  "nbformat": 4,
  "nbformat_minor": 0,
  "metadata": {
    "colab": {
      "name": "HelloWorld.ipynb",
      "provenance": [],
      "toc_visible": true,
      "authorship_tag": "ABX9TyNKU3wJXQ6fp+haRrP7JMm+",
      "include_colab_link": true
    },
    "kernelspec": {
      "name": "python3",
      "display_name": "Python 3"
    },
    "language_info": {
      "name": "python"
    }
  },
  "cells": [
    {
      "cell_type": "markdown",
      "metadata": {
        "id": "view-in-github",
        "colab_type": "text"
      },
      "source": [
        "<a href=\"https://colab.research.google.com/github/RobInLabUJI/RobotColab/blob/main/HelloWorld.ipynb\" target=\"_parent\"><img src=\"https://colab.research.google.com/assets/colab-badge.svg\" alt=\"Open In Colab\"/></a>"
      ]
    },
    {
      "cell_type": "markdown",
      "metadata": {
        "id": "e0CXVLpyyD9E"
      },
      "source": [
        "## Text cells\n",
        "This is a **text cell**. You can **double-click** to edit this cell. Text cells\n",
        "use markdown syntax. To learn more, see our [markdown\n",
        "guide](https://www.markdownguide.org/).\n",
        "\n",
        "\n"
      ]
    },
    {
      "cell_type": "markdown",
      "metadata": {
        "id": "p2as4Qt7yzv3"
      },
      "source": [
        "## Code cells\n",
        "Below are two code cells. You can click in a cell to select it and execute the contents. \n",
        "\n",
        "You can edit the code and run it again as many times as you want. The code is written in the [Python programming language](https://www.python.org/about/gettingstarted/)."
      ]
    },
    {
      "cell_type": "code",
      "metadata": {
        "id": "scYn5qHZa3yc"
      },
      "source": [
        "print(\"Hello, World!\")"
      ],
      "execution_count": null,
      "outputs": []
    },
    {
      "cell_type": "code",
      "metadata": {
        "id": "qiDaj5RXa6gA"
      },
      "source": [
        "print(\"Goodbye, World!\")"
      ],
      "execution_count": null,
      "outputs": []
    }
  ]
}