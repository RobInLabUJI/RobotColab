{
 "cells": [
  {
   "cell_type": "code",
   "execution_count": null,
   "id": "cd465f20",
   "metadata": {},
   "outputs": [],
   "source": [
    "from TurtleBot3.Controllers import TurtleBot3Robot"
   ]
  },
  {
   "cell_type": "code",
   "execution_count": null,
   "id": "ec3c2e9d",
   "metadata": {},
   "outputs": [],
   "source": [
    "robot = TurtleBot3Robot()"
   ]
  },
  {
   "cell_type": "code",
   "execution_count": null,
   "id": "c0c6b140",
   "metadata": {},
   "outputs": [],
   "source": [
    "robot.getPose()"
   ]
  },
  {
   "cell_type": "code",
   "execution_count": null,
   "id": "f643622d",
   "metadata": {},
   "outputs": [],
   "source": [
    "s = robot.getScan()"
   ]
  },
  {
   "cell_type": "code",
   "execution_count": null,
   "id": "2a0f2045",
   "metadata": {},
   "outputs": [],
   "source": [
    "x, y = robot.getPointCloud()"
   ]
  },
  {
   "cell_type": "code",
   "execution_count": null,
   "id": "9cf0f87c",
   "metadata": {},
   "outputs": [],
   "source": [
    "import matplotlib.pyplot as plt"
   ]
  },
  {
   "cell_type": "code",
   "execution_count": null,
   "id": "7374da95",
   "metadata": {},
   "outputs": [],
   "source": [
    "%matplotlib inline"
   ]
  },
  {
   "cell_type": "code",
   "execution_count": null,
   "id": "dc5eb168",
   "metadata": {},
   "outputs": [],
   "source": [
    "plt.plot(x,y,'.');\n",
    "plt.axis('square');"
   ]
  },
  {
   "cell_type": "code",
   "execution_count": null,
   "id": "c0f1fc31",
   "metadata": {},
   "outputs": [],
   "source": [
    "robot.move(0.5,0)"
   ]
  },
  {
   "cell_type": "code",
   "execution_count": null,
   "id": "5cb8bb59",
   "metadata": {},
   "outputs": [],
   "source": [
    "robot.move(0,0)"
   ]
  },
  {
   "cell_type": "code",
   "execution_count": null,
   "id": "a8e52340",
   "metadata": {},
   "outputs": [],
   "source": []
  }
 ],
 "metadata": {
  "kernelspec": {
   "display_name": "Python 3 (ipykernel)",
   "language": "python",
   "name": "python3"
  },
  "language_info": {
   "codemirror_mode": {
    "name": "ipython",
    "version": 3
   },
   "file_extension": ".py",
   "mimetype": "text/x-python",
   "name": "python",
   "nbconvert_exporter": "python",
   "pygments_lexer": "ipython3",
   "version": "3.8.10"
  }
 },
 "nbformat": 4,
 "nbformat_minor": 5
}
